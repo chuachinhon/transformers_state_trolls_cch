{
 "cells": [
  {
   "cell_type": "markdown",
   "metadata": {},
   "source": [
    "# STATE TWITTER TROLL DETECTION USING TRANSFORMERS\n",
    "\n",
    "\n",
    "## REPO STRUCTURE\n",
    "\n",
    "* Notebooks 1.0 - 1.2: Data collection, cleaning and preparation. Optional if you just want to experiment with the final dataset.\n",
    "\n",
    "* Notebook 1.3: Setting a baseline with Hugging Face's Zero-shot Classifier.\n",
    "\n",
    "* Notebooks 2.0 - 2.1: Finetuning distilbert with my custom dataset and detailed testing with unseen validation dataset.\n",
    "\n",
    "* app.py + folders for \"static\" and \"template: simple app for use on a local machine to demonstrate how a state troll tweet detector can be used in deployment. Unfortunately free hosting accounts can't accomodate the disk size required for pytorch and the fine tuned model, so I've not deployed this online. "
   ]
  },
  {
   "cell_type": "markdown",
   "metadata": {},
   "source": [
    "# PART 1D: SETTING BASELINE PERFORMANCE WITH ZERO-SHOT CLASSIFIER\n",
    "\n",
    "In \"classic\" machine learning approaches, a simple baseline performance for a model can be assessed via the dummy_classifier/regressor feature. There isn't something equivalent for transformer models, unfortunately.\n",
    "\n",
    "The recently introduced [zero-shot classifier](https://discuss.huggingface.co/t/new-pipeline-for-zero-shot-text-classification/681) by Hugging Face is a possible option, in my view, though I'm pretty sure this wasn't the original intention for the feature.\n",
    "\n",
    "In any case, this is a pretty quick way to get a sense of how a transformer model that's not been finetuned on this particular task - not an easy one, in my view - performs.\n",
    "\n",
    "I'll just test the zero-shot classifier against 10% of the validation data, or 1,000 rows."
   ]
  },
  {
   "cell_type": "code",
   "execution_count": null,
   "metadata": {
    "colab": {},
    "colab_type": "code",
    "executionInfo": {
     "elapsed": 7992,
     "status": "ok",
     "timestamp": 1598845914760,
     "user": {
      "displayName": "Chin Hon Chua",
      "photoUrl": "",
      "userId": "18176735856822613388"
     },
     "user_tz": -480
    },
    "id": "TiU_ES5tzpMH"
   },
   "outputs": [],
   "source": [
    "from __future__ import print_function\n",
    "\n",
    "import ipywidgets as widgets\n",
    "import numpy as np\n",
    "import pandas as pd\n",
    "import re\n",
    "from transformers import pipeline"
   ]
  },
  {
   "cell_type": "code",
   "execution_count": 2,
   "metadata": {
    "colab": {},
    "colab_type": "code",
    "executionInfo": {
     "elapsed": 7973,
     "status": "ok",
     "timestamp": 1598845914762,
     "user": {
      "displayName": "Chin Hon Chua",
      "photoUrl": "",
      "userId": "18176735856822613388"
     },
     "user_tz": -480
    },
    "id": "ZAMQEU3-g3dL"
   },
   "outputs": [],
   "source": [
    "tweets = (\n",
    "    pd.read_csv(\"../data/validate.csv\")\n",
    "    .dropna(subset=[\"clean_text\"])\n",
    "    .sample(n=1000, random_state=42, replace=False)\n",
    ")"
   ]
  },
  {
   "cell_type": "code",
   "execution_count": 3,
   "metadata": {
    "colab": {},
    "colab_type": "code",
    "executionInfo": {
     "elapsed": 7940,
     "status": "ok",
     "timestamp": 1598845914765,
     "user": {
      "displayName": "Chin Hon Chua",
      "photoUrl": "",
      "userId": "18176735856822613388"
     },
     "user_tz": -480
    },
    "id": "IrvQ4q7xhMBf"
   },
   "outputs": [],
   "source": [
    "# The pipeline assumes by default that only one of the candidate labels is true, \n",
    "# returning a list of scores for each label which add up to 1.\n",
    "\n",
    "corpus = list(tweets['clean_text'].values)\n",
    "\n",
    "candidate_labels = [\"real_tweet\", \"troll_tweet\"]"
   ]
  },
  {
   "cell_type": "code",
   "execution_count": null,
   "metadata": {
    "colab": {
     "base_uri": "https://localhost:8080/",
     "height": 1000
    },
    "colab_type": "code",
    "executionInfo": {
     "elapsed": 67206,
     "status": "ok",
     "timestamp": 1598845974050,
     "user": {
      "displayName": "Chin Hon Chua",
      "photoUrl": "",
      "userId": "18176735856822613388"
     },
     "user_tz": -480
    },
    "id": "spkccRiv0CB3",
    "outputId": "33008101-09c8-4e06-846f-af12472d5dc3"
   },
   "outputs": [],
   "source": [
    "classifier = pipeline(\"zero-shot-classification\")"
   ]
  },
  {
   "cell_type": "code",
   "execution_count": 5,
   "metadata": {
    "colab": {
     "base_uri": "https://localhost:8080/",
     "height": 51
    },
    "colab_type": "code",
    "executionInfo": {
     "elapsed": 162374,
     "status": "ok",
     "timestamp": 1598846069247,
     "user": {
      "displayName": "Chin Hon Chua",
      "photoUrl": "",
      "userId": "18176735856822613388"
     },
     "user_tz": -480
    },
    "id": "f7AF53Wl5f8W",
    "outputId": "e1ba8e30-9f58-4362-bbf4-6f89961dc8f3"
   },
   "outputs": [
    {
     "name": "stdout",
     "output_type": "stream",
     "text": [
      "CPU times: user 18min 30s, sys: 47.1 s, total: 19min 17s\n",
      "Wall time: 6min 20s\n"
     ]
    }
   ],
   "source": [
    "%%time\n",
    "\n",
    "tweets[\"HF_pred\"] = classifier(corpus, candidate_labels)"
   ]
  },
  {
   "cell_type": "code",
   "execution_count": 6,
   "metadata": {
    "colab": {
     "base_uri": "https://localhost:8080/",
     "height": 547
    },
    "colab_type": "code",
    "executionInfo": {
     "elapsed": 206318,
     "status": "ok",
     "timestamp": 1598846113233,
     "user": {
      "displayName": "Chin Hon Chua",
      "photoUrl": "",
      "userId": "18176735856822613388"
     },
     "user_tz": -480
    },
    "id": "pIM-TBYbY1GZ",
    "outputId": "5e66797e-0d7c-44bb-fd90-c6be5d9fdf81"
   },
   "outputs": [
    {
     "data": {
      "text/html": [
       "<div>\n",
       "<style scoped>\n",
       "    .dataframe tbody tr th:only-of-type {\n",
       "        vertical-align: middle;\n",
       "    }\n",
       "\n",
       "    .dataframe tbody tr th {\n",
       "        vertical-align: top;\n",
       "    }\n",
       "\n",
       "    .dataframe thead th {\n",
       "        text-align: right;\n",
       "    }\n",
       "</style>\n",
       "<table border=\"1\" class=\"dataframe\">\n",
       "  <thead>\n",
       "    <tr style=\"text-align: right;\">\n",
       "      <th></th>\n",
       "      <th>tweetid</th>\n",
       "      <th>user_display_name</th>\n",
       "      <th>tweet_text</th>\n",
       "      <th>clean_text</th>\n",
       "      <th>troll_or_not</th>\n",
       "      <th>HF_pred</th>\n",
       "    </tr>\n",
       "  </thead>\n",
       "  <tbody>\n",
       "    <tr>\n",
       "      <th>6252</th>\n",
       "      <td>620920600157138944</td>\n",
       "      <td>derrickmc</td>\n",
       "      <td>Teenage girl fucked, I Want To Have Sex In Hig...</td>\n",
       "      <td>Teenage girl fucked I Want To Have Sex In High...</td>\n",
       "      <td>1</td>\n",
       "      <td>{'sequence': 'Teenage girl fucked I Want To Ha...</td>\n",
       "    </tr>\n",
       "    <tr>\n",
       "      <th>4684</th>\n",
       "      <td>1296895872639348738</td>\n",
       "      <td>TheEconomist</td>\n",
       "      <td>In the absence of understanding, doctors must ...</td>\n",
       "      <td>In the absence of understanding doctors must f...</td>\n",
       "      <td>0</td>\n",
       "      <td>{'sequence': 'In the absence of understanding ...</td>\n",
       "    </tr>\n",
       "    <tr>\n",
       "      <th>1731</th>\n",
       "      <td>1053507862956294150</td>\n",
       "      <td>JiayangFan</td>\n",
       "      <td>@NastyGalHelp @NastyGal Just sent a DM. Hope s...</td>\n",
       "      <td>Just sent a DM Hope someone can respond soonest</td>\n",
       "      <td>0</td>\n",
       "      <td>{'sequence': 'Just sent a DM Hope someone can ...</td>\n",
       "    </tr>\n",
       "    <tr>\n",
       "      <th>4742</th>\n",
       "      <td>650861613516324864</td>\n",
       "      <td>Room Of Rumor</td>\n",
       "      <td>Ichiro takes mound for Marlins, Phillies win  ...</td>\n",
       "      <td>Ichiro takes mound for Marlins Phillies win #s...</td>\n",
       "      <td>1</td>\n",
       "      <td>{'sequence': 'Ichiro takes mound for Marlins P...</td>\n",
       "    </tr>\n",
       "    <tr>\n",
       "      <th>4521</th>\n",
       "      <td>577881696416108544</td>\n",
       "      <td>5838c3c419e0a51b6af6d63faad6688de4ac7a6f74fbba...</td>\n",
       "      <td>It is better to have less thunder in the mouth...</td>\n",
       "      <td>It is better to have less thunder in the mouth...</td>\n",
       "      <td>1</td>\n",
       "      <td>{'sequence': 'It is better to have less thunde...</td>\n",
       "    </tr>\n",
       "  </tbody>\n",
       "</table>\n",
       "</div>"
      ],
      "text/plain": [
       "                  tweetid                                  user_display_name  \\\n",
       "6252   620920600157138944                                          derrickmc   \n",
       "4684  1296895872639348738                                       TheEconomist   \n",
       "1731  1053507862956294150                                         JiayangFan   \n",
       "4742   650861613516324864                                      Room Of Rumor   \n",
       "4521   577881696416108544  5838c3c419e0a51b6af6d63faad6688de4ac7a6f74fbba...   \n",
       "\n",
       "                                             tweet_text  \\\n",
       "6252  Teenage girl fucked, I Want To Have Sex In Hig...   \n",
       "4684  In the absence of understanding, doctors must ...   \n",
       "1731  @NastyGalHelp @NastyGal Just sent a DM. Hope s...   \n",
       "4742  Ichiro takes mound for Marlins, Phillies win  ...   \n",
       "4521  It is better to have less thunder in the mouth...   \n",
       "\n",
       "                                             clean_text  troll_or_not  \\\n",
       "6252  Teenage girl fucked I Want To Have Sex In High...             1   \n",
       "4684  In the absence of understanding doctors must f...             0   \n",
       "1731    Just sent a DM Hope someone can respond soonest             0   \n",
       "4742  Ichiro takes mound for Marlins Phillies win #s...             1   \n",
       "4521  It is better to have less thunder in the mouth...             1   \n",
       "\n",
       "                                                HF_pred  \n",
       "6252  {'sequence': 'Teenage girl fucked I Want To Ha...  \n",
       "4684  {'sequence': 'In the absence of understanding ...  \n",
       "1731  {'sequence': 'Just sent a DM Hope someone can ...  \n",
       "4742  {'sequence': 'Ichiro takes mound for Marlins P...  \n",
       "4521  {'sequence': 'It is better to have less thunde...  "
      ]
     },
     "execution_count": 6,
     "metadata": {},
     "output_type": "execute_result"
    }
   ],
   "source": [
    "tweets.head()"
   ]
  },
  {
   "cell_type": "code",
   "execution_count": 7,
   "metadata": {
    "colab": {},
    "colab_type": "code",
    "executionInfo": {
     "elapsed": 206268,
     "status": "ok",
     "timestamp": 1598846113237,
     "user": {
      "displayName": "Chin Hon Chua",
      "photoUrl": "",
      "userId": "18176735856822613388"
     },
     "user_tz": -480
    },
    "id": "BIw0Ebw9ixNU"
   },
   "outputs": [],
   "source": [
    "# let's extract the individual labels and scores for a clearer look\n",
    "\n",
    "tweets['Pred_Label1'] = [x.get('labels')[0] for x in tweets['HF_pred']]\n",
    "tweets['Pred_Label2'] = [x.get('labels')[1] for x in tweets['HF_pred']]\n",
    "\n",
    "tweets['Pred_Score1'] = [x.get('scores')[0] for x in tweets['HF_pred']]\n",
    "tweets['Pred_Score2'] = [x.get('scores')[1] for x in tweets['HF_pred']]"
   ]
  },
  {
   "cell_type": "markdown",
   "metadata": {},
   "source": [
    "###  NOTE: The zero-shot classifier will always show the higher score first, meaning the first label and first score are the predicted values."
   ]
  },
  {
   "cell_type": "code",
   "execution_count": 8,
   "metadata": {
    "colab": {},
    "colab_type": "code",
    "executionInfo": {
     "elapsed": 206257,
     "status": "ok",
     "timestamp": 1598846113237,
     "user": {
      "displayName": "Chin Hon Chua",
      "photoUrl": "",
      "userId": "18176735856822613388"
     },
     "user_tz": -480
    },
    "id": "WYmXihmWbbmb"
   },
   "outputs": [],
   "source": [
    "#keep only cols needed for clearer look at results\n",
    "\n",
    "cols = ['troll_or_not', 'clean_text','Pred_Label1', 'Pred_Score1', 'Pred_Label2', 'Pred_Score2']\n",
    "\n",
    "tweets_baseline = tweets[cols].copy()"
   ]
  },
  {
   "cell_type": "code",
   "execution_count": 9,
   "metadata": {
    "colab": {
     "base_uri": "https://localhost:8080/",
     "height": 669
    },
    "colab_type": "code",
    "executionInfo": {
     "elapsed": 206249,
     "status": "ok",
     "timestamp": 1598846113238,
     "user": {
      "displayName": "Chin Hon Chua",
      "photoUrl": "",
      "userId": "18176735856822613388"
     },
     "user_tz": -480
    },
    "id": "eFw78CAWbbSm",
    "outputId": "1c5d318c-8c0e-487c-ed59-c84ec2d32306"
   },
   "outputs": [
    {
     "data": {
      "text/html": [
       "<div>\n",
       "<style scoped>\n",
       "    .dataframe tbody tr th:only-of-type {\n",
       "        vertical-align: middle;\n",
       "    }\n",
       "\n",
       "    .dataframe tbody tr th {\n",
       "        vertical-align: top;\n",
       "    }\n",
       "\n",
       "    .dataframe thead th {\n",
       "        text-align: right;\n",
       "    }\n",
       "</style>\n",
       "<table border=\"1\" class=\"dataframe\">\n",
       "  <thead>\n",
       "    <tr style=\"text-align: right;\">\n",
       "      <th></th>\n",
       "      <th>troll_or_not</th>\n",
       "      <th>clean_text</th>\n",
       "      <th>Pred_Label1</th>\n",
       "      <th>Pred_Score1</th>\n",
       "      <th>Pred_Label2</th>\n",
       "      <th>Pred_Score2</th>\n",
       "    </tr>\n",
       "  </thead>\n",
       "  <tbody>\n",
       "    <tr>\n",
       "      <th>6252</th>\n",
       "      <td>1</td>\n",
       "      <td>Teenage girl fucked I Want To Have Sex In High...</td>\n",
       "      <td>real_tweet</td>\n",
       "      <td>0.535819</td>\n",
       "      <td>troll_tweet</td>\n",
       "      <td>0.464181</td>\n",
       "    </tr>\n",
       "    <tr>\n",
       "      <th>4684</th>\n",
       "      <td>0</td>\n",
       "      <td>In the absence of understanding doctors must f...</td>\n",
       "      <td>real_tweet</td>\n",
       "      <td>0.640341</td>\n",
       "      <td>troll_tweet</td>\n",
       "      <td>0.359659</td>\n",
       "    </tr>\n",
       "    <tr>\n",
       "      <th>1731</th>\n",
       "      <td>0</td>\n",
       "      <td>Just sent a DM Hope someone can respond soonest</td>\n",
       "      <td>troll_tweet</td>\n",
       "      <td>0.531710</td>\n",
       "      <td>real_tweet</td>\n",
       "      <td>0.468290</td>\n",
       "    </tr>\n",
       "    <tr>\n",
       "      <th>4742</th>\n",
       "      <td>1</td>\n",
       "      <td>Ichiro takes mound for Marlins Phillies win #s...</td>\n",
       "      <td>real_tweet</td>\n",
       "      <td>0.847504</td>\n",
       "      <td>troll_tweet</td>\n",
       "      <td>0.152496</td>\n",
       "    </tr>\n",
       "    <tr>\n",
       "      <th>4521</th>\n",
       "      <td>1</td>\n",
       "      <td>It is better to have less thunder in the mouth...</td>\n",
       "      <td>real_tweet</td>\n",
       "      <td>0.511084</td>\n",
       "      <td>troll_tweet</td>\n",
       "      <td>0.488916</td>\n",
       "    </tr>\n",
       "  </tbody>\n",
       "</table>\n",
       "</div>"
      ],
      "text/plain": [
       "      troll_or_not                                         clean_text  \\\n",
       "6252             1  Teenage girl fucked I Want To Have Sex In High...   \n",
       "4684             0  In the absence of understanding doctors must f...   \n",
       "1731             0    Just sent a DM Hope someone can respond soonest   \n",
       "4742             1  Ichiro takes mound for Marlins Phillies win #s...   \n",
       "4521             1  It is better to have less thunder in the mouth...   \n",
       "\n",
       "      Pred_Label1  Pred_Score1  Pred_Label2  Pred_Score2  \n",
       "6252   real_tweet     0.535819  troll_tweet     0.464181  \n",
       "4684   real_tweet     0.640341  troll_tweet     0.359659  \n",
       "1731  troll_tweet     0.531710   real_tweet     0.468290  \n",
       "4742   real_tweet     0.847504  troll_tweet     0.152496  \n",
       "4521   real_tweet     0.511084  troll_tweet     0.488916  "
      ]
     },
     "execution_count": 9,
     "metadata": {},
     "output_type": "execute_result"
    }
   ],
   "source": [
    "tweets_baseline.head()"
   ]
  },
  {
   "cell_type": "code",
   "execution_count": 10,
   "metadata": {
    "colab": {},
    "colab_type": "code",
    "executionInfo": {
     "elapsed": 206241,
     "status": "ok",
     "timestamp": 1598846113238,
     "user": {
      "displayName": "Chin Hon Chua",
      "photoUrl": "",
      "userId": "18176735856822613388"
     },
     "user_tz": -480
    },
    "id": "vhJ3z4QedoUM"
   },
   "outputs": [],
   "source": [
    "# re-labelling the origins of the tweets (trolls or real) for clarity and comparison\n",
    "# as noted earlier, troll tweets were labelled 1 and real ones as 0\n",
    "\n",
    "tweets_baseline['Status'] = np.where(tweets_baseline['troll_or_not'] == 1, \"troll_tweet\", \"real_tweet\")"
   ]
  },
  {
   "cell_type": "code",
   "execution_count": 11,
   "metadata": {
    "colab": {},
    "colab_type": "code",
    "executionInfo": {
     "elapsed": 206236,
     "status": "ok",
     "timestamp": 1598846113239,
     "user": {
      "displayName": "Chin Hon Chua",
      "photoUrl": "",
      "userId": "18176735856822613388"
     },
     "user_tz": -480
    },
    "id": "TzjbjC9Fb949"
   },
   "outputs": [],
   "source": [
    "tweets_baseline[\"Compare_Results\"] = np.where(\n",
    "    tweets_baseline[\"Status\"] == tweets_baseline[\"Pred_Label1\"],\n",
    "    \"correct prediction\",\n",
    "    \"wrong prediction\",\n",
    ")\n"
   ]
  },
  {
   "cell_type": "code",
   "execution_count": 12,
   "metadata": {
    "colab": {
     "base_uri": "https://localhost:8080/",
     "height": 68
    },
    "colab_type": "code",
    "executionInfo": {
     "elapsed": 206228,
     "status": "ok",
     "timestamp": 1598846113239,
     "user": {
      "displayName": "Chin Hon Chua",
      "photoUrl": "",
      "userId": "18176735856822613388"
     },
     "user_tz": -480
    },
    "id": "FQT67X7Mb9dk",
    "outputId": "1f8a6025-7c8f-44bb-c3bf-f613d8a0d3d5"
   },
   "outputs": [
    {
     "data": {
      "text/plain": [
       "correct prediction    505\n",
       "wrong prediction      495\n",
       "Name: Compare_Results, dtype: int64"
      ]
     },
     "execution_count": 12,
     "metadata": {},
     "output_type": "execute_result"
    }
   ],
   "source": [
    "tweets_baseline['Compare_Results'].value_counts()"
   ]
  },
  {
   "cell_type": "code",
   "execution_count": 13,
   "metadata": {
    "colab": {},
    "colab_type": "code",
    "executionInfo": {
     "elapsed": 206217,
     "status": "ok",
     "timestamp": 1598846113240,
     "user": {
      "displayName": "Chin Hon Chua",
      "photoUrl": "",
      "userId": "18176735856822613388"
     },
     "user_tz": -480
    },
    "id": "gNay9Lz9p_28"
   },
   "outputs": [
    {
     "data": {
      "text/html": [
       "<div>\n",
       "<style scoped>\n",
       "    .dataframe tbody tr th:only-of-type {\n",
       "        vertical-align: middle;\n",
       "    }\n",
       "\n",
       "    .dataframe tbody tr th {\n",
       "        vertical-align: top;\n",
       "    }\n",
       "\n",
       "    .dataframe thead th {\n",
       "        text-align: right;\n",
       "    }\n",
       "</style>\n",
       "<table border=\"1\" class=\"dataframe\">\n",
       "  <thead>\n",
       "    <tr style=\"text-align: right;\">\n",
       "      <th></th>\n",
       "      <th>troll_or_not</th>\n",
       "      <th>clean_text</th>\n",
       "      <th>Pred_Label1</th>\n",
       "      <th>Pred_Score1</th>\n",
       "      <th>Pred_Label2</th>\n",
       "      <th>Pred_Score2</th>\n",
       "      <th>Status</th>\n",
       "      <th>Compare_Results</th>\n",
       "    </tr>\n",
       "  </thead>\n",
       "  <tbody>\n",
       "    <tr>\n",
       "      <th>6252</th>\n",
       "      <td>1</td>\n",
       "      <td>Teenage girl fucked I Want To Have Sex In High...</td>\n",
       "      <td>real_tweet</td>\n",
       "      <td>0.535819</td>\n",
       "      <td>troll_tweet</td>\n",
       "      <td>0.464181</td>\n",
       "      <td>troll_tweet</td>\n",
       "      <td>wrong prediction</td>\n",
       "    </tr>\n",
       "    <tr>\n",
       "      <th>4684</th>\n",
       "      <td>0</td>\n",
       "      <td>In the absence of understanding doctors must f...</td>\n",
       "      <td>real_tweet</td>\n",
       "      <td>0.640341</td>\n",
       "      <td>troll_tweet</td>\n",
       "      <td>0.359659</td>\n",
       "      <td>real_tweet</td>\n",
       "      <td>correct prediction</td>\n",
       "    </tr>\n",
       "    <tr>\n",
       "      <th>1731</th>\n",
       "      <td>0</td>\n",
       "      <td>Just sent a DM Hope someone can respond soonest</td>\n",
       "      <td>troll_tweet</td>\n",
       "      <td>0.531710</td>\n",
       "      <td>real_tweet</td>\n",
       "      <td>0.468290</td>\n",
       "      <td>real_tweet</td>\n",
       "      <td>wrong prediction</td>\n",
       "    </tr>\n",
       "    <tr>\n",
       "      <th>4742</th>\n",
       "      <td>1</td>\n",
       "      <td>Ichiro takes mound for Marlins Phillies win #s...</td>\n",
       "      <td>real_tweet</td>\n",
       "      <td>0.847504</td>\n",
       "      <td>troll_tweet</td>\n",
       "      <td>0.152496</td>\n",
       "      <td>troll_tweet</td>\n",
       "      <td>wrong prediction</td>\n",
       "    </tr>\n",
       "    <tr>\n",
       "      <th>4521</th>\n",
       "      <td>1</td>\n",
       "      <td>It is better to have less thunder in the mouth...</td>\n",
       "      <td>real_tweet</td>\n",
       "      <td>0.511084</td>\n",
       "      <td>troll_tweet</td>\n",
       "      <td>0.488916</td>\n",
       "      <td>troll_tweet</td>\n",
       "      <td>wrong prediction</td>\n",
       "    </tr>\n",
       "    <tr>\n",
       "      <th>6340</th>\n",
       "      <td>1</td>\n",
       "      <td>#sports Best postgame Cavs quotes after Game l...</td>\n",
       "      <td>real_tweet</td>\n",
       "      <td>0.875354</td>\n",
       "      <td>troll_tweet</td>\n",
       "      <td>0.124646</td>\n",
       "      <td>troll_tweet</td>\n",
       "      <td>wrong prediction</td>\n",
       "    </tr>\n",
       "    <tr>\n",
       "      <th>576</th>\n",
       "      <td>1</td>\n",
       "      <td>null It is UTC now</td>\n",
       "      <td>real_tweet</td>\n",
       "      <td>0.546614</td>\n",
       "      <td>troll_tweet</td>\n",
       "      <td>0.453386</td>\n",
       "      <td>troll_tweet</td>\n",
       "      <td>wrong prediction</td>\n",
       "    </tr>\n",
       "    <tr>\n",
       "      <th>5202</th>\n",
       "      <td>0</td>\n",
       "      <td>You didnt tell him that before the flight</td>\n",
       "      <td>real_tweet</td>\n",
       "      <td>0.558011</td>\n",
       "      <td>troll_tweet</td>\n",
       "      <td>0.441989</td>\n",
       "      <td>real_tweet</td>\n",
       "      <td>correct prediction</td>\n",
       "    </tr>\n",
       "    <tr>\n",
       "      <th>6363</th>\n",
       "      <td>0</td>\n",
       "      <td>We are livechatting A cast including</td>\n",
       "      <td>real_tweet</td>\n",
       "      <td>0.626950</td>\n",
       "      <td>troll_tweet</td>\n",
       "      <td>0.373050</td>\n",
       "      <td>real_tweet</td>\n",
       "      <td>correct prediction</td>\n",
       "    </tr>\n",
       "    <tr>\n",
       "      <th>439</th>\n",
       "      <td>1</td>\n",
       "      <td>Want a cheap flight to Miami Heres how to make...</td>\n",
       "      <td>real_tweet</td>\n",
       "      <td>0.666553</td>\n",
       "      <td>troll_tweet</td>\n",
       "      <td>0.333447</td>\n",
       "      <td>troll_tweet</td>\n",
       "      <td>wrong prediction</td>\n",
       "    </tr>\n",
       "    <tr>\n",
       "      <th>2750</th>\n",
       "      <td>1</td>\n",
       "      <td>Garys Mailbag Alicia do you ever get jealous o...</td>\n",
       "      <td>real_tweet</td>\n",
       "      <td>0.554408</td>\n",
       "      <td>troll_tweet</td>\n",
       "      <td>0.445592</td>\n",
       "      <td>troll_tweet</td>\n",
       "      <td>wrong prediction</td>\n",
       "    </tr>\n",
       "    <tr>\n",
       "      <th>7487</th>\n",
       "      <td>0</td>\n",
       "      <td>Given all of the evidence if you are just look...</td>\n",
       "      <td>real_tweet</td>\n",
       "      <td>0.672888</td>\n",
       "      <td>troll_tweet</td>\n",
       "      <td>0.327112</td>\n",
       "      <td>real_tweet</td>\n",
       "      <td>correct prediction</td>\n",
       "    </tr>\n",
       "    <tr>\n",
       "      <th>5272</th>\n",
       "      <td>0</td>\n",
       "      <td>On a new episode of our fiction podcast the wr...</td>\n",
       "      <td>real_tweet</td>\n",
       "      <td>0.614496</td>\n",
       "      <td>troll_tweet</td>\n",
       "      <td>0.385504</td>\n",
       "      <td>real_tweet</td>\n",
       "      <td>correct prediction</td>\n",
       "    </tr>\n",
       "    <tr>\n",
       "      <th>5653</th>\n",
       "      <td>0</td>\n",
       "      <td>This piece shows off not only and his historic...</td>\n",
       "      <td>real_tweet</td>\n",
       "      <td>0.616911</td>\n",
       "      <td>troll_tweet</td>\n",
       "      <td>0.383089</td>\n",
       "      <td>real_tweet</td>\n",
       "      <td>correct prediction</td>\n",
       "    </tr>\n",
       "    <tr>\n",
       "      <th>3999</th>\n",
       "      <td>1</td>\n",
       "      <td>Antifa today Berkeley theyre terrorists</td>\n",
       "      <td>real_tweet</td>\n",
       "      <td>0.580185</td>\n",
       "      <td>troll_tweet</td>\n",
       "      <td>0.419815</td>\n",
       "      <td>troll_tweet</td>\n",
       "      <td>wrong prediction</td>\n",
       "    </tr>\n",
       "    <tr>\n",
       "      <th>6033</th>\n",
       "      <td>0</td>\n",
       "      <td>So my concern is not whose fault this is which...</td>\n",
       "      <td>real_tweet</td>\n",
       "      <td>0.708104</td>\n",
       "      <td>troll_tweet</td>\n",
       "      <td>0.291896</td>\n",
       "      <td>real_tweet</td>\n",
       "      <td>correct prediction</td>\n",
       "    </tr>\n",
       "    <tr>\n",
       "      <th>582</th>\n",
       "      <td>1</td>\n",
       "      <td>Resetting my workout calendar AugustFocus khil...</td>\n",
       "      <td>real_tweet</td>\n",
       "      <td>0.586307</td>\n",
       "      <td>troll_tweet</td>\n",
       "      <td>0.413693</td>\n",
       "      <td>troll_tweet</td>\n",
       "      <td>wrong prediction</td>\n",
       "    </tr>\n",
       "    <tr>\n",
       "      <th>9930</th>\n",
       "      <td>0</td>\n",
       "      <td>Ahead of #Pulitzers next Monday #thankyoujourn...</td>\n",
       "      <td>real_tweet</td>\n",
       "      <td>0.832122</td>\n",
       "      <td>troll_tweet</td>\n",
       "      <td>0.167878</td>\n",
       "      <td>real_tweet</td>\n",
       "      <td>correct prediction</td>\n",
       "    </tr>\n",
       "    <tr>\n",
       "      <th>7051</th>\n",
       "      <td>1</td>\n",
       "      <td>WORLDERPE #wtl somebody please teach me how to...</td>\n",
       "      <td>troll_tweet</td>\n",
       "      <td>0.622908</td>\n",
       "      <td>real_tweet</td>\n",
       "      <td>0.377092</td>\n",
       "      <td>troll_tweet</td>\n",
       "      <td>correct prediction</td>\n",
       "    </tr>\n",
       "    <tr>\n",
       "      <th>8158</th>\n",
       "      <td>0</td>\n",
       "      <td>We were standing around the police front line ...</td>\n",
       "      <td>real_tweet</td>\n",
       "      <td>0.690394</td>\n",
       "      <td>troll_tweet</td>\n",
       "      <td>0.309606</td>\n",
       "      <td>real_tweet</td>\n",
       "      <td>correct prediction</td>\n",
       "    </tr>\n",
       "  </tbody>\n",
       "</table>\n",
       "</div>"
      ],
      "text/plain": [
       "      troll_or_not                                         clean_text  \\\n",
       "6252             1  Teenage girl fucked I Want To Have Sex In High...   \n",
       "4684             0  In the absence of understanding doctors must f...   \n",
       "1731             0    Just sent a DM Hope someone can respond soonest   \n",
       "4742             1  Ichiro takes mound for Marlins Phillies win #s...   \n",
       "4521             1  It is better to have less thunder in the mouth...   \n",
       "6340             1  #sports Best postgame Cavs quotes after Game l...   \n",
       "576              1                                 null It is UTC now   \n",
       "5202             0          You didnt tell him that before the flight   \n",
       "6363             0               We are livechatting A cast including   \n",
       "439              1  Want a cheap flight to Miami Heres how to make...   \n",
       "2750             1  Garys Mailbag Alicia do you ever get jealous o...   \n",
       "7487             0  Given all of the evidence if you are just look...   \n",
       "5272             0  On a new episode of our fiction podcast the wr...   \n",
       "5653             0  This piece shows off not only and his historic...   \n",
       "3999             1            Antifa today Berkeley theyre terrorists   \n",
       "6033             0  So my concern is not whose fault this is which...   \n",
       "582              1  Resetting my workout calendar AugustFocus khil...   \n",
       "9930             0  Ahead of #Pulitzers next Monday #thankyoujourn...   \n",
       "7051             1  WORLDERPE #wtl somebody please teach me how to...   \n",
       "8158             0  We were standing around the police front line ...   \n",
       "\n",
       "      Pred_Label1  Pred_Score1  Pred_Label2  Pred_Score2       Status  \\\n",
       "6252   real_tweet     0.535819  troll_tweet     0.464181  troll_tweet   \n",
       "4684   real_tweet     0.640341  troll_tweet     0.359659   real_tweet   \n",
       "1731  troll_tweet     0.531710   real_tweet     0.468290   real_tweet   \n",
       "4742   real_tweet     0.847504  troll_tweet     0.152496  troll_tweet   \n",
       "4521   real_tweet     0.511084  troll_tweet     0.488916  troll_tweet   \n",
       "6340   real_tweet     0.875354  troll_tweet     0.124646  troll_tweet   \n",
       "576    real_tweet     0.546614  troll_tweet     0.453386  troll_tweet   \n",
       "5202   real_tweet     0.558011  troll_tweet     0.441989   real_tweet   \n",
       "6363   real_tweet     0.626950  troll_tweet     0.373050   real_tweet   \n",
       "439    real_tweet     0.666553  troll_tweet     0.333447  troll_tweet   \n",
       "2750   real_tweet     0.554408  troll_tweet     0.445592  troll_tweet   \n",
       "7487   real_tweet     0.672888  troll_tweet     0.327112   real_tweet   \n",
       "5272   real_tweet     0.614496  troll_tweet     0.385504   real_tweet   \n",
       "5653   real_tweet     0.616911  troll_tweet     0.383089   real_tweet   \n",
       "3999   real_tweet     0.580185  troll_tweet     0.419815  troll_tweet   \n",
       "6033   real_tweet     0.708104  troll_tweet     0.291896   real_tweet   \n",
       "582    real_tweet     0.586307  troll_tweet     0.413693  troll_tweet   \n",
       "9930   real_tweet     0.832122  troll_tweet     0.167878   real_tweet   \n",
       "7051  troll_tweet     0.622908   real_tweet     0.377092  troll_tweet   \n",
       "8158   real_tweet     0.690394  troll_tweet     0.309606   real_tweet   \n",
       "\n",
       "         Compare_Results  \n",
       "6252    wrong prediction  \n",
       "4684  correct prediction  \n",
       "1731    wrong prediction  \n",
       "4742    wrong prediction  \n",
       "4521    wrong prediction  \n",
       "6340    wrong prediction  \n",
       "576     wrong prediction  \n",
       "5202  correct prediction  \n",
       "6363  correct prediction  \n",
       "439     wrong prediction  \n",
       "2750    wrong prediction  \n",
       "7487  correct prediction  \n",
       "5272  correct prediction  \n",
       "5653  correct prediction  \n",
       "3999    wrong prediction  \n",
       "6033  correct prediction  \n",
       "582     wrong prediction  \n",
       "9930  correct prediction  \n",
       "7051  correct prediction  \n",
       "8158  correct prediction  "
      ]
     },
     "execution_count": 13,
     "metadata": {},
     "output_type": "execute_result"
    }
   ],
   "source": [
    "tweets_baseline.head(20)"
   ]
  },
  {
   "cell_type": "markdown",
   "metadata": {
    "colab": {},
    "colab_type": "code",
    "executionInfo": {
     "elapsed": 206149,
     "status": "ok",
     "timestamp": 1598846113243,
     "user": {
      "displayName": "Chin Hon Chua",
      "photoUrl": "",
      "userId": "18176735856822613388"
     },
     "user_tz": -480
    },
    "id": "ccRnw5_nlQHM"
   },
   "source": [
    "## NOTE:\n",
    "\n",
    "Looks like the zero-shot classifier managed to label just about half of the tweets correctly. Let's see how distilbert performs after fine tuning with our custom dataset."
   ]
  }
 ],
 "metadata": {
  "accelerator": "GPU",
  "colab": {
   "collapsed_sections": [],
   "machine_shape": "hm",
   "name": "zero_shot_tweets.ipynb",
   "provenance": [
    {
     "file_id": "1jocViLorbwWIkTXKwxCOV9HLTaDDgCaw",
     "timestamp": 1598775872060
    }
   ]
  },
  "kernelspec": {
   "display_name": "Python 3",
   "language": "python",
   "name": "python3"
  },
  "language_info": {
   "codemirror_mode": {
    "name": "ipython",
    "version": 3
   },
   "file_extension": ".py",
   "mimetype": "text/x-python",
   "name": "python",
   "nbconvert_exporter": "python",
   "pygments_lexer": "ipython3",
   "version": "3.6.8"
  }
 },
 "nbformat": 4,
 "nbformat_minor": 1
}
