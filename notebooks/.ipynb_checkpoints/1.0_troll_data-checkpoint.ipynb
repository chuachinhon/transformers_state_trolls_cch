{
 "cells": [
  {
   "cell_type": "code",
   "execution_count": 1,
   "metadata": {},
   "outputs": [],
   "source": [
    "%load_ext blackcellmagic"
   ]
  },
  {
   "cell_type": "code",
   "execution_count": 2,
   "metadata": {},
   "outputs": [
    {
     "name": "stderr",
     "output_type": "stream",
     "text": [
      "/anaconda3/lib/python3.6/site-packages/sklearn/utils/deprecation.py:143: FutureWarning: The sklearn.metrics.classification module is  deprecated in version 0.22 and will be removed in version 0.24. The corresponding classes / functions should instead be imported from sklearn.metrics. Anything that cannot be imported from sklearn.metrics is now part of the private API.\n",
      "  warnings.warn(message, FutureWarning)\n"
     ]
    }
   ],
   "source": [
    "import matplotlib as mpl\n",
    "import matplotlib.pyplot as plt\n",
    "import numpy as np\n",
    "import pandas as pd\n",
    "import re\n",
    "import csv\n",
    "\n",
    "from nltk.corpus import stopwords\n",
    "from nltk.stem.wordnet import WordNetLemmatizer\n",
    "from sklearn.feature_extraction.text import CountVectorizer, TfidfVectorizer\n",
    "from yellowbrick.text import FreqDistVisualizer, TSNEVisualizer\n",
    "\n",
    "mpl.rcParams[\"figure.dpi\"] = 300\n",
    "%matplotlib inline\n",
    "%config InlineBackend.figure_format ='retina'"
   ]
  },
  {
   "cell_type": "code",
   "execution_count": 3,
   "metadata": {},
   "outputs": [],
   "source": [
    "pd.set_option('display.max_columns', 40)"
   ]
  },
  {
   "cell_type": "code",
   "execution_count": 4,
   "metadata": {},
   "outputs": [
    {
     "name": "stderr",
     "output_type": "stream",
     "text": [
      "/anaconda3/lib/python3.6/site-packages/IPython/core/interactiveshell.py:3072: DtypeWarning: Columns (15) have mixed types.Specify dtype option on import or set low_memory=False.\n",
      "  interactivity=interactivity, compiler=compiler, result=result)\n",
      "/anaconda3/lib/python3.6/site-packages/IPython/core/interactiveshell.py:3072: DtypeWarning: Columns (6,15,19,30) have mixed types.Specify dtype option on import or set low_memory=False.\n",
      "  interactivity=interactivity, compiler=compiler, result=result)\n",
      "/anaconda3/lib/python3.6/site-packages/IPython/core/interactiveshell.py:3072: DtypeWarning: Columns (15,19,30) have mixed types.Specify dtype option on import or set low_memory=False.\n",
      "  interactivity=interactivity, compiler=compiler, result=result)\n",
      "/anaconda3/lib/python3.6/site-packages/IPython/core/interactiveshell.py:3072: DtypeWarning: Columns (15,19) have mixed types.Specify dtype option on import or set low_memory=False.\n",
      "  interactivity=interactivity, compiler=compiler, result=result)\n",
      "/anaconda3/lib/python3.6/site-packages/IPython/core/interactiveshell.py:3072: DtypeWarning: Columns (15,19) have mixed types.Specify dtype option on import or set low_memory=False.\n",
      "  interactivity=interactivity, compiler=compiler, result=result)\n",
      "/anaconda3/lib/python3.6/site-packages/IPython/core/interactiveshell.py:3072: DtypeWarning: Columns (30) have mixed types.Specify dtype option on import or set low_memory=False.\n",
      "  interactivity=interactivity, compiler=compiler, result=result)\n"
     ]
    }
   ],
   "source": [
    "raw1 = pd.read_csv(\"../data/china_052020_tweets.csv\").dropna(subset=[\"tweet_text\"])\n",
    "raw2 = pd.read_csv(\"../data/china_082019_1_tweets_csv_hashed.csv\").dropna(\n",
    "    subset=[\"tweet_text\"]\n",
    ")\n",
    "raw3 = pd.read_csv(\"../data/china_082019_2_tweets_csv_hashed.csv\").dropna(\n",
    "    subset=[\"tweet_text\"]\n",
    ")\n",
    "\n",
    "raw4 = pd.read_csv(\"../data/russia_052020_tweets.csv\").dropna(subset=[\"tweet_text\"])\n",
    "raw5 = pd.read_csv(\"../data/russian_linked_tweets_csv_hashed.csv\").dropna(\n",
    "    subset=[\"tweet_text\"]\n",
    ")\n",
    "raw6 = pd.read_csv(\"../data/ira_tweets_csv_hashed.csv\").dropna(subset=[\"tweet_text\"])\n",
    "\n",
    "china_raw = pd.concat([raw1, raw2, raw3])\n",
    "\n",
    "russia_raw = pd.concat([raw4, raw5, raw6])\n"
   ]
  },
  {
   "cell_type": "code",
   "execution_count": 5,
   "metadata": {},
   "outputs": [],
   "source": [
    "crit1 = china_raw[\"tweet_language\"] == \"en\"\n",
    "crit2 = china_raw[\"is_retweet\"] == False\n",
    "crit3 = ~china_raw[\"tweet_text\"].str.startswith(\"RT@\")\n",
    "\n",
    "china_raw = china_raw[crit1 & crit2 & crit3].copy()\n",
    "\n",
    "crit4 = russia_raw[\"tweet_language\"] == \"en\"\n",
    "crit5 = russia_raw[\"is_retweet\"] == False\n",
    "crit6 = ~russia_raw[\"tweet_text\"].str.startswith(\"RT@\")\n",
    "\n",
    "russia_raw = russia_raw[crit4 & crit5 & crit6]\n"
   ]
  },
  {
   "cell_type": "code",
   "execution_count": 6,
   "metadata": {},
   "outputs": [],
   "source": [
    "def clean_text(text):\n",
    "    text = re.sub(r\"http\\S+\", \"\", text)\n",
    "    text = re.sub(r\"\\n\", \" \", text)\n",
    "    text = re.sub(r\"\\'t\", \" not\", text) # Change 't to 'not'\n",
    "    text = re.sub(r'(@.*?)[\\s]', ' ', text) # Remove @name\n",
    "    text = re.sub(r\"$\\d+\\W+|\\b\\d+\\b|\\W+\\d+$\", \" \", text) # remove digits\n",
    "    text = re.sub(r\"[^\\w\\s\\#]\", \"\", text) #remove special characters except hashtags\n",
    "    text = text.strip(\" \")\n",
    "    text = re.sub(' +',' ', text).strip() # get rid of multiple spaces and replace with a single\n",
    "    return text"
   ]
  },
  {
   "cell_type": "code",
   "execution_count": 7,
   "metadata": {},
   "outputs": [],
   "source": [
    "china_raw[\"clean_text\"] = (\n",
    "    china_raw[\"tweet_text\"]\n",
    "    .map(lambda text: clean_text(text))\n",
    ")\n",
    "\n",
    "russia_raw[\"clean_text\"] = (\n",
    "    russia_raw[\"tweet_text\"]\n",
    "    .map(lambda text: clean_text(text))\n",
    ")\n"
   ]
  },
  {
   "cell_type": "code",
   "execution_count": 8,
   "metadata": {},
   "outputs": [],
   "source": [
    "china_raw['word_count'] = china_raw['clean_text'].str.count(' ') + 1\n",
    "\n",
    "russia_raw['word_count'] = russia_raw['clean_text'].str.count(' ') + 1"
   ]
  },
  {
   "cell_type": "code",
   "execution_count": 9,
   "metadata": {},
   "outputs": [],
   "source": [
    "crit7 = ~china_raw[\"clean_text\"].isnull()\n",
    "crit8 = china_raw[\"clean_text\"] != \"\"\n",
    "crit9 = china_raw[\"word_count\"] > 3\n",
    "\n",
    "china_raw = china_raw[crit7 & crit8 & crit9].copy()\n",
    "\n",
    "crit10 = ~russia_raw[\"clean_text\"].isnull()\n",
    "crit11 = russia_raw[\"clean_text\"] != \"\"\n",
    "crit12 = russia_raw[\"word_count\"] > 3\n",
    "\n",
    "russia_raw = russia_raw[crit10 & crit11 & crit12].copy()\n"
   ]
  },
  {
   "cell_type": "code",
   "execution_count": 10,
   "metadata": {},
   "outputs": [],
   "source": [
    "cols = ['tweetid', 'user_display_name', 'tweet_text','clean_text']\n",
    "\n",
    "china = china_raw[cols].copy()\n",
    "\n",
    "russia = russia_raw[cols].copy()"
   ]
  },
  {
   "cell_type": "code",
   "execution_count": 11,
   "metadata": {},
   "outputs": [],
   "source": [
    "# optional: if you want to save the full set for future samples\n",
    "#china.to_csv(\"../data/china_trolls_full.csv\", index=False)\n",
    "#russia.to_csv(\"../data/russia_trolls_full.csv\", index=False)"
   ]
  },
  {
   "cell_type": "code",
   "execution_count": 12,
   "metadata": {},
   "outputs": [],
   "source": [
    "china_sample = china.sample(n=25000, random_state=42, replace=False)\n",
    "\n",
    "russia_sample = russia.sample(n=25000, random_state=42, replace=False)\n",
    "\n",
    "troll_sample = pd.concat([china_sample, russia_sample])\n"
   ]
  },
  {
   "cell_type": "code",
   "execution_count": 13,
   "metadata": {},
   "outputs": [],
   "source": [
    "troll_sample[\"troll_or_not\"] = 1"
   ]
  },
  {
   "cell_type": "code",
   "execution_count": 14,
   "metadata": {},
   "outputs": [
    {
     "data": {
      "text/plain": [
       "(50000, 5)"
      ]
     },
     "execution_count": 14,
     "metadata": {},
     "output_type": "execute_result"
    }
   ],
   "source": [
    "troll_sample.shape"
   ]
  },
  {
   "cell_type": "code",
   "execution_count": 15,
   "metadata": {},
   "outputs": [
    {
     "data": {
      "text/html": [
       "<div>\n",
       "<style scoped>\n",
       "    .dataframe tbody tr th:only-of-type {\n",
       "        vertical-align: middle;\n",
       "    }\n",
       "\n",
       "    .dataframe tbody tr th {\n",
       "        vertical-align: top;\n",
       "    }\n",
       "\n",
       "    .dataframe thead th {\n",
       "        text-align: right;\n",
       "    }\n",
       "</style>\n",
       "<table border=\"1\" class=\"dataframe\">\n",
       "  <thead>\n",
       "    <tr style=\"text-align: right;\">\n",
       "      <th></th>\n",
       "      <th>tweetid</th>\n",
       "      <th>user_display_name</th>\n",
       "      <th>tweet_text</th>\n",
       "      <th>clean_text</th>\n",
       "      <th>troll_or_not</th>\n",
       "    </tr>\n",
       "  </thead>\n",
       "  <tbody>\n",
       "    <tr>\n",
       "      <th>332962</th>\n",
       "      <td>1245883557362282497</td>\n",
       "      <td>85c9M6CDZxgBwoEye0rF12ZBgGl3xvz6Bnbvhp7MUKI=</td>\n",
       "      <td>having each tiny wish come true, or having som...</td>\n",
       "      <td>having each tiny wish come true or having some...</td>\n",
       "      <td>1</td>\n",
       "    </tr>\n",
       "    <tr>\n",
       "      <th>417285</th>\n",
       "      <td>961577921461866496</td>\n",
       "      <td>曲剑明</td>\n",
       "      <td>＠null It is 12:25 UTC now</td>\n",
       "      <td>null It is UTC now</td>\n",
       "      <td>1</td>\n",
       "    </tr>\n",
       "    <tr>\n",
       "      <th>992674</th>\n",
       "      <td>941616158075211776</td>\n",
       "      <td>IFL1E0m0SRX2cdOtuLFV7xKtnBgxagKzNgkuGFvNtvs=</td>\n",
       "      <td>British number two Bedene to switch back to Sl...</td>\n",
       "      <td>British number two Bedene to switch back to Sl...</td>\n",
       "      <td>1</td>\n",
       "    </tr>\n",
       "    <tr>\n",
       "      <th>135543</th>\n",
       "      <td>850414479976345600</td>\n",
       "      <td>Klausv</td>\n",
       "      <td>kalamitykait Thanks for bearing with us - you ...</td>\n",
       "      <td>kalamitykait Thanks for bearing with us you sh...</td>\n",
       "      <td>1</td>\n",
       "    </tr>\n",
       "    <tr>\n",
       "      <th>463169</th>\n",
       "      <td>960784360071925760</td>\n",
       "      <td>曲剑明</td>\n",
       "      <td>＠null It is 08:56 CET now</td>\n",
       "      <td>null It is CET now</td>\n",
       "      <td>1</td>\n",
       "    </tr>\n",
       "  </tbody>\n",
       "</table>\n",
       "</div>"
      ],
      "text/plain": [
       "                    tweetid                             user_display_name  \\\n",
       "332962  1245883557362282497  85c9M6CDZxgBwoEye0rF12ZBgGl3xvz6Bnbvhp7MUKI=   \n",
       "417285   961577921461866496                                           曲剑明   \n",
       "992674   941616158075211776  IFL1E0m0SRX2cdOtuLFV7xKtnBgxagKzNgkuGFvNtvs=   \n",
       "135543   850414479976345600                                        Klausv   \n",
       "463169   960784360071925760                                           曲剑明   \n",
       "\n",
       "                                               tweet_text  \\\n",
       "332962  having each tiny wish come true, or having som...   \n",
       "417285                          ＠null It is 12:25 UTC now   \n",
       "992674  British number two Bedene to switch back to Sl...   \n",
       "135543  kalamitykait Thanks for bearing with us - you ...   \n",
       "463169                          ＠null It is 08:56 CET now   \n",
       "\n",
       "                                               clean_text  troll_or_not  \n",
       "332962  having each tiny wish come true or having some...             1  \n",
       "417285                                 null It is UTC now             1  \n",
       "992674  British number two Bedene to switch back to Sl...             1  \n",
       "135543  kalamitykait Thanks for bearing with us you sh...             1  \n",
       "463169                                 null It is CET now             1  "
      ]
     },
     "execution_count": 15,
     "metadata": {},
     "output_type": "execute_result"
    }
   ],
   "source": [
    "troll_sample.head()"
   ]
  },
  {
   "cell_type": "code",
   "execution_count": 17,
   "metadata": {},
   "outputs": [],
   "source": [
    "\"\"\"\n",
    "troll_sample.to_csv(\n",
    "    \"../data/troll_50k.csv\",\n",
    "    index=False,\n",
    "    encoding=\"utf-8\",\n",
    "    quoting=csv.QUOTE_NONNUMERIC,\n",
    ")\n",
    "\"\"\" "
   ]
  }
 ],
 "metadata": {
  "kernelspec": {
   "display_name": "Python 3",
   "language": "python",
   "name": "python3"
  },
  "language_info": {
   "codemirror_mode": {
    "name": "ipython",
    "version": 3
   },
   "file_extension": ".py",
   "mimetype": "text/x-python",
   "name": "python",
   "nbconvert_exporter": "python",
   "pygments_lexer": "ipython3",
   "version": "3.6.8"
  }
 },
 "nbformat": 4,
 "nbformat_minor": 2
}
