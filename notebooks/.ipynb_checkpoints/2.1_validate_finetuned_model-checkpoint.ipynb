{
 "cells": [
  {
   "cell_type": "markdown",
   "metadata": {},
   "source": [
    "# STATE TWITTER TROLL DETECTION USING TRANSFORMERS\n",
    "\n",
    "## REPO STRUCTURE\n",
    "\n",
    "* Notebooks 1.0 - 1.2: Data collection, cleaning and preparation. Optional if you just want to experiment with the final dataset.\n",
    "\n",
    "* Notebook 1.3: Setting a baseline with Hugging Face's Zero-shot Classifier.\n",
    "\n",
    "* Notebooks 2.0 - 2.1: Finetuning distilbert with my custom dataset and detailed testing with unseen validation dataset.\n",
    "\n",
    "* app.py + folders for \"static\" and \"template: simple app for use on a local machine to demonstrate how a state troll tweet detector can be used in deployment. Unfortunately free hosting accounts can't accomodate the disk size required for pytorch and the fine tuned model, so I've not deployed this online."
   ]
  },
  {
   "cell_type": "markdown",
   "metadata": {},
   "source": [
    "# PART 2B: DETAILED EVALUATATION OF FINE TUNED MODEL\n",
    "\n",
    "In this notebook, I'll take a closer look at how the model performs against unseen data. Though we've seen that the fine tuned model's metrics are excellent, it is still well worth taking a closer look via confusion matrices.\n",
    "\n",
    "I'll also test the model against a new dataset (comprising tweets from Iranian state trolls) to see how well it generalises against tweets by other state operators.\n",
    "\n",
    "As someone new to fine tuning of transformer models, it's also useful, I find, to learn how to load the new model via Hugging Face's [task-specific pipelines](https://huggingface.co/transformers/master/main_classes/pipelines.html?highlight=pipeline) and use them for inference."
   ]
  },
  {
   "cell_type": "code",
   "execution_count": 1,
   "metadata": {},
   "outputs": [
    {
     "name": "stderr",
     "output_type": "stream",
     "text": [
      "\u001b[34m\u001b[1mwandb\u001b[0m: \u001b[33mWARNING\u001b[0m W&B installed but not logged in.  Run `wandb login` or set the WANDB_API_KEY env variable.\n"
     ]
    }
   ],
   "source": [
    "import matplotlib as mpl\n",
    "import matplotlib.pyplot as plt\n",
    "import numpy as np\n",
    "import pandas as pd\n",
    "import re\n",
    "import seaborn as sns\n",
    "\n",
    "from sklearn.metrics import confusion_matrix, accuracy_score, f1_score, precision_score, recall_score\n",
    "from transformers import (\n",
    "    DistilBertTokenizerFast,\n",
    "    DistilBertForSequenceClassification,\n",
    "    TextClassificationPipeline\n",
    ")\n",
    "\n",
    "mpl.rcParams[\"figure.dpi\"] = 300\n",
    "%matplotlib inline\n",
    "%config InlineBackend.figure_format ='retina'"
   ]
  },
  {
   "cell_type": "code",
   "execution_count": 2,
   "metadata": {},
   "outputs": [],
   "source": [
    "validate = (\n",
    "    pd.read_csv(\"../data/validate.csv\")\n",
    "    .dropna(subset=[\"clean_text\"])\n",
    ")"
   ]
  },
  {
   "cell_type": "code",
   "execution_count": 3,
   "metadata": {},
   "outputs": [
    {
     "data": {
      "text/plain": [
       "(10000, 5)"
      ]
     },
     "execution_count": 3,
     "metadata": {},
     "output_type": "execute_result"
    }
   ],
   "source": [
    "validate.shape"
   ]
  },
  {
   "cell_type": "code",
   "execution_count": 4,
   "metadata": {},
   "outputs": [
    {
     "data": {
      "text/html": [
       "<div>\n",
       "<style scoped>\n",
       "    .dataframe tbody tr th:only-of-type {\n",
       "        vertical-align: middle;\n",
       "    }\n",
       "\n",
       "    .dataframe tbody tr th {\n",
       "        vertical-align: top;\n",
       "    }\n",
       "\n",
       "    .dataframe thead th {\n",
       "        text-align: right;\n",
       "    }\n",
       "</style>\n",
       "<table border=\"1\" class=\"dataframe\">\n",
       "  <thead>\n",
       "    <tr style=\"text-align: right;\">\n",
       "      <th></th>\n",
       "      <th>tweetid</th>\n",
       "      <th>user_display_name</th>\n",
       "      <th>tweet_text</th>\n",
       "      <th>clean_text</th>\n",
       "      <th>troll_or_not</th>\n",
       "    </tr>\n",
       "  </thead>\n",
       "  <tbody>\n",
       "    <tr>\n",
       "      <th>0</th>\n",
       "      <td>1189300879905755142</td>\n",
       "      <td>AbacusNews</td>\n",
       "      <td>Hungry? With a tap on your phone, you can summ...</td>\n",
       "      <td>Hungry With a tap on your phone you can summon...</td>\n",
       "      <td>0</td>\n",
       "    </tr>\n",
       "    <tr>\n",
       "      <th>1</th>\n",
       "      <td>1301520005822058496</td>\n",
       "      <td>guardian</td>\n",
       "      <td>US jobless claims drop sharply as government c...</td>\n",
       "      <td>US jobless claims drop sharply as government c...</td>\n",
       "      <td>0</td>\n",
       "    </tr>\n",
       "    <tr>\n",
       "      <th>2</th>\n",
       "      <td>359158016613949441</td>\n",
       "      <td>ZTUhI030WiV97FLuXgAU427wsJ1TtqtTBMXjKgShnU=</td>\n",
       "      <td>IT GOES SOMETHING LIKE THIS</td>\n",
       "      <td>IT GOES SOMETHING LIKE THIS</td>\n",
       "      <td>1</td>\n",
       "    </tr>\n",
       "    <tr>\n",
       "      <th>3</th>\n",
       "      <td>1278149046973001729</td>\n",
       "      <td>FrankLuntz</td>\n",
       "      <td>In Arizona, coronavirus isn’t just a pandemic....</td>\n",
       "      <td>In Arizona coronavirus isnt just a pandemic It...</td>\n",
       "      <td>0</td>\n",
       "    </tr>\n",
       "    <tr>\n",
       "      <th>4</th>\n",
       "      <td>1301895307098230785</td>\n",
       "      <td>FoxFriendsFirst</td>\n",
       "      <td>‘100 Days Of Liberal Lawlessness’: Attorneys G...</td>\n",
       "      <td>Days Of Liberal Lawlessness Attorneys General ...</td>\n",
       "      <td>0</td>\n",
       "    </tr>\n",
       "  </tbody>\n",
       "</table>\n",
       "</div>"
      ],
      "text/plain": [
       "               tweetid                            user_display_name  \\\n",
       "0  1189300879905755142                                   AbacusNews   \n",
       "1  1301520005822058496                                     guardian   \n",
       "2   359158016613949441  ZTUhI030WiV97FLuXgAU427wsJ1TtqtTBMXjKgShnU=   \n",
       "3  1278149046973001729                                   FrankLuntz   \n",
       "4  1301895307098230785                              FoxFriendsFirst   \n",
       "\n",
       "                                          tweet_text  \\\n",
       "0  Hungry? With a tap on your phone, you can summ...   \n",
       "1  US jobless claims drop sharply as government c...   \n",
       "2                        IT GOES SOMETHING LIKE THIS   \n",
       "3  In Arizona, coronavirus isn’t just a pandemic....   \n",
       "4  ‘100 Days Of Liberal Lawlessness’: Attorneys G...   \n",
       "\n",
       "                                          clean_text  troll_or_not  \n",
       "0  Hungry With a tap on your phone you can summon...             0  \n",
       "1  US jobless claims drop sharply as government c...             0  \n",
       "2                        IT GOES SOMETHING LIKE THIS             1  \n",
       "3  In Arizona coronavirus isnt just a pandemic It...             0  \n",
       "4  Days Of Liberal Lawlessness Attorneys General ...             0  "
      ]
     },
     "execution_count": 4,
     "metadata": {},
     "output_type": "execute_result"
    }
   ],
   "source": [
    "validate.head()"
   ]
  },
  {
   "cell_type": "code",
   "execution_count": 5,
   "metadata": {},
   "outputs": [],
   "source": [
    "corpus = list(validate['clean_text'].values)"
   ]
  },
  {
   "cell_type": "markdown",
   "metadata": {},
   "source": [
    "## 1.1: LOAD AND RUN MODEL VIA TEXTCLASSIFICATIONPIPELINE \n",
    "\n",
    "Hugging Face's pipelines are incredibly useful, as they abstract away most of the complex code so that you can focus on analysing the model's performance. Here we'll use the text classification pipeline, obviously. If you are fine tuning a model for a different downstream task, you'll have to pick a [different pipeline](https://huggingface.co/transformers/master/main_classes/pipelines.html?highlight=pipeline).\n",
    "\n",
    "### DOWNLOAD THE FINE TUNED MODEL [HERE](https://www.dropbox.com/sh/90h7ymog2oi5yn7/AACTuxmMTcso6aMxSmSiD8AVa)\n"
   ]
  },
  {
   "cell_type": "code",
   "execution_count": 6,
   "metadata": {},
   "outputs": [],
   "source": [
    "ft_model = \"../troll_detect\"\n",
    "\n",
    "nlp_clf = TextClassificationPipeline(\n",
    "    model=DistilBertForSequenceClassification.from_pretrained(ft_model),\n",
    "    tokenizer=DistilBertTokenizerFast.from_pretrained(ft_model)\n",
    ")"
   ]
  },
  {
   "cell_type": "code",
   "execution_count": 7,
   "metadata": {},
   "outputs": [
    {
     "name": "stdout",
     "output_type": "stream",
     "text": [
      "CPU times: user 17min 5s, sys: 2min 55s, total: 20min\n",
      "Wall time: 8min 52s\n"
     ]
    }
   ],
   "source": [
    "%%time\n",
    "\n",
    "validate[\"pred_raw\"] = nlp_clf(corpus)"
   ]
  },
  {
   "cell_type": "markdown",
   "metadata": {},
   "source": [
    "### NOTE: \n",
    "The model outputs a label and a score for each prediction. I'm extracting them separately so that we can view the results more easily. I'll relabel \"Label_1\" to just 1, and \"Label_0\" to 0 for clarity as well"
   ]
  },
  {
   "cell_type": "code",
   "execution_count": 8,
   "metadata": {},
   "outputs": [],
   "source": [
    "validate['pred_label'] = [x.get('label') for x in validate['pred_raw']]\n",
    "\n",
    "validate['pred_score'] = [x.get('score') for x in validate['pred_raw']]"
   ]
  },
  {
   "cell_type": "code",
   "execution_count": 9,
   "metadata": {},
   "outputs": [],
   "source": [
    "# relabel \"Label_1\" to just 1, and \"Label_0\" to 0 for clarity \n",
    "\n",
    "validate['troll_pred'] = np.where(validate['pred_label'] == \"LABEL_1\", 1, 0)"
   ]
  },
  {
   "cell_type": "code",
   "execution_count": 10,
   "metadata": {},
   "outputs": [],
   "source": [
    "# create new column to quickly see at a glance whether the prediction is right or wrong\n",
    "\n",
    "validate[\"pred_outcome\"] = np.where(\n",
    "    validate[\"troll_pred\"] == validate[\"troll_or_not\"],\n",
    "    \"correct prediction\",\n",
    "    \"wrong prediction\",\n",
    ")\n"
   ]
  },
  {
   "cell_type": "code",
   "execution_count": 11,
   "metadata": {},
   "outputs": [],
   "source": [
    "# re-organising columns for clarity\n",
    "\n",
    "cols = [\n",
    "    \"tweetid\",\n",
    "    \"user_display_name\",\n",
    "    \"tweet_text\",\n",
    "    \"pred_outcome\",\n",
    "    \"troll_or_not\",\n",
    "    \"troll_pred\",\n",
    "    \"pred_label\",\n",
    "]\n",
    "\n",
    "validate_outcome = validate[cols].copy()\n"
   ]
  },
  {
   "cell_type": "markdown",
   "metadata": {},
   "source": [
    "## 1.2: INSPECT RESULTS AND METRICS\n",
    "\n",
    "With this table, it'll be far easier to get a sense of where the model got things right, and where it tripped up.\n",
    "\n",
    "The column \"troll_or_not\" represents our ground truth. With the col \"pre_outcome\", you can quickly see what kind of tweets \"fooled\" the Distilbert model. \n",
    "\n",
    "The scores on the various metrics are excellent. Can it be improved further? Probably, but you start getting into trade-offs regarding time and resources."
   ]
  },
  {
   "cell_type": "code",
   "execution_count": 12,
   "metadata": {},
   "outputs": [
    {
     "data": {
      "text/html": [
       "<div>\n",
       "<style scoped>\n",
       "    .dataframe tbody tr th:only-of-type {\n",
       "        vertical-align: middle;\n",
       "    }\n",
       "\n",
       "    .dataframe tbody tr th {\n",
       "        vertical-align: top;\n",
       "    }\n",
       "\n",
       "    .dataframe thead th {\n",
       "        text-align: right;\n",
       "    }\n",
       "</style>\n",
       "<table border=\"1\" class=\"dataframe\">\n",
       "  <thead>\n",
       "    <tr style=\"text-align: right;\">\n",
       "      <th></th>\n",
       "      <th>tweetid</th>\n",
       "      <th>user_display_name</th>\n",
       "      <th>tweet_text</th>\n",
       "      <th>pred_outcome</th>\n",
       "      <th>troll_or_not</th>\n",
       "      <th>troll_pred</th>\n",
       "      <th>pred_label</th>\n",
       "    </tr>\n",
       "  </thead>\n",
       "  <tbody>\n",
       "    <tr>\n",
       "      <th>0</th>\n",
       "      <td>1189300879905755142</td>\n",
       "      <td>AbacusNews</td>\n",
       "      <td>Hungry? With a tap on your phone, you can summ...</td>\n",
       "      <td>correct prediction</td>\n",
       "      <td>0</td>\n",
       "      <td>0</td>\n",
       "      <td>LABEL_0</td>\n",
       "    </tr>\n",
       "    <tr>\n",
       "      <th>1</th>\n",
       "      <td>1301520005822058496</td>\n",
       "      <td>guardian</td>\n",
       "      <td>US jobless claims drop sharply as government c...</td>\n",
       "      <td>correct prediction</td>\n",
       "      <td>0</td>\n",
       "      <td>0</td>\n",
       "      <td>LABEL_0</td>\n",
       "    </tr>\n",
       "    <tr>\n",
       "      <th>2</th>\n",
       "      <td>359158016613949441</td>\n",
       "      <td>ZTUhI030WiV97FLuXgAU427wsJ1TtqtTBMXjKgShnU=</td>\n",
       "      <td>IT GOES SOMETHING LIKE THIS</td>\n",
       "      <td>wrong prediction</td>\n",
       "      <td>1</td>\n",
       "      <td>0</td>\n",
       "      <td>LABEL_0</td>\n",
       "    </tr>\n",
       "    <tr>\n",
       "      <th>3</th>\n",
       "      <td>1278149046973001729</td>\n",
       "      <td>FrankLuntz</td>\n",
       "      <td>In Arizona, coronavirus isn’t just a pandemic....</td>\n",
       "      <td>correct prediction</td>\n",
       "      <td>0</td>\n",
       "      <td>0</td>\n",
       "      <td>LABEL_0</td>\n",
       "    </tr>\n",
       "    <tr>\n",
       "      <th>4</th>\n",
       "      <td>1301895307098230785</td>\n",
       "      <td>FoxFriendsFirst</td>\n",
       "      <td>‘100 Days Of Liberal Lawlessness’: Attorneys G...</td>\n",
       "      <td>correct prediction</td>\n",
       "      <td>0</td>\n",
       "      <td>0</td>\n",
       "      <td>LABEL_0</td>\n",
       "    </tr>\n",
       "    <tr>\n",
       "      <th>5</th>\n",
       "      <td>1294288179034501121</td>\n",
       "      <td>MSNBC</td>\n",
       "      <td>On Pres. Trump blocking funds to the U.S. Post...</td>\n",
       "      <td>correct prediction</td>\n",
       "      <td>0</td>\n",
       "      <td>0</td>\n",
       "      <td>LABEL_0</td>\n",
       "    </tr>\n",
       "    <tr>\n",
       "      <th>6</th>\n",
       "      <td>1275247009990049792</td>\n",
       "      <td>NewYorker</td>\n",
       "      <td>“On Friday night, William Barr seemed to embra...</td>\n",
       "      <td>correct prediction</td>\n",
       "      <td>0</td>\n",
       "      <td>0</td>\n",
       "      <td>LABEL_0</td>\n",
       "    </tr>\n",
       "    <tr>\n",
       "      <th>7</th>\n",
       "      <td>1097180832060633090</td>\n",
       "      <td>Peggynoonannyc</td>\n",
       "      <td>A possibility, which has become over the years...</td>\n",
       "      <td>correct prediction</td>\n",
       "      <td>0</td>\n",
       "      <td>0</td>\n",
       "      <td>LABEL_0</td>\n",
       "    </tr>\n",
       "    <tr>\n",
       "      <th>8</th>\n",
       "      <td>1267622414562799616</td>\n",
       "      <td>AOC</td>\n",
       "      <td>He holds that Bible like it’s burning him.</td>\n",
       "      <td>wrong prediction</td>\n",
       "      <td>0</td>\n",
       "      <td>1</td>\n",
       "      <td>LABEL_1</td>\n",
       "    </tr>\n",
       "    <tr>\n",
       "      <th>9</th>\n",
       "      <td>1158359650196238336</td>\n",
       "      <td>davidaxelrod</td>\n",
       "      <td>In Chicago last week, 74 people were shot and ...</td>\n",
       "      <td>correct prediction</td>\n",
       "      <td>0</td>\n",
       "      <td>0</td>\n",
       "      <td>LABEL_0</td>\n",
       "    </tr>\n",
       "    <tr>\n",
       "      <th>10</th>\n",
       "      <td>654323997962694656</td>\n",
       "      <td>KansasCityDailyNews</td>\n",
       "      <td>#news Dole recalls cases of bagged salad over ...</td>\n",
       "      <td>correct prediction</td>\n",
       "      <td>1</td>\n",
       "      <td>1</td>\n",
       "      <td>LABEL_1</td>\n",
       "    </tr>\n",
       "    <tr>\n",
       "      <th>11</th>\n",
       "      <td>498471080882106368</td>\n",
       "      <td>fe36814d91c603bdd794327a26800e8a69da1eb0c49e74...</td>\n",
       "      <td>To love someone who simply smiles or stares at...</td>\n",
       "      <td>correct prediction</td>\n",
       "      <td>1</td>\n",
       "      <td>1</td>\n",
       "      <td>LABEL_1</td>\n",
       "    </tr>\n",
       "    <tr>\n",
       "      <th>12</th>\n",
       "      <td>619491783395794944</td>\n",
       "      <td>New Orleans Online</td>\n",
       "      <td>Optimum performance: pro #tennis is a demandin...</td>\n",
       "      <td>correct prediction</td>\n",
       "      <td>1</td>\n",
       "      <td>1</td>\n",
       "      <td>LABEL_1</td>\n",
       "    </tr>\n",
       "    <tr>\n",
       "      <th>13</th>\n",
       "      <td>454342659826782209</td>\n",
       "      <td>BoswinkSyri00</td>\n",
       "      <td>Oakland Teen Akintunde Ahmad Accepted at Ivy L...</td>\n",
       "      <td>correct prediction</td>\n",
       "      <td>1</td>\n",
       "      <td>1</td>\n",
       "      <td>LABEL_1</td>\n",
       "    </tr>\n",
       "    <tr>\n",
       "      <th>14</th>\n",
       "      <td>966682375353757699</td>\n",
       "      <td>曲剑明</td>\n",
       "      <td>＠null It is 15:32 CET now</td>\n",
       "      <td>correct prediction</td>\n",
       "      <td>1</td>\n",
       "      <td>1</td>\n",
       "      <td>LABEL_1</td>\n",
       "    </tr>\n",
       "    <tr>\n",
       "      <th>15</th>\n",
       "      <td>1300427076500029442</td>\n",
       "      <td>stegersaurus</td>\n",
       "      <td>one night you’re at migas the next you’ve been...</td>\n",
       "      <td>correct prediction</td>\n",
       "      <td>0</td>\n",
       "      <td>0</td>\n",
       "      <td>LABEL_0</td>\n",
       "    </tr>\n",
       "    <tr>\n",
       "      <th>16</th>\n",
       "      <td>937237383564623872</td>\n",
       "      <td>6fxdBS7M0NZMGtUtKfOWYi4ekC5JErjXGP+gQN4ais=</td>\n",
       "      <td>This travel jacket will cure your packing prob...</td>\n",
       "      <td>correct prediction</td>\n",
       "      <td>1</td>\n",
       "      <td>1</td>\n",
       "      <td>LABEL_1</td>\n",
       "    </tr>\n",
       "    <tr>\n",
       "      <th>17</th>\n",
       "      <td>793671748726165504</td>\n",
       "      <td>阿丽木琴</td>\n",
       "      <td>PLAYMFS: #ptl jay park biased rep yang on retw...</td>\n",
       "      <td>correct prediction</td>\n",
       "      <td>1</td>\n",
       "      <td>1</td>\n",
       "      <td>LABEL_1</td>\n",
       "    </tr>\n",
       "    <tr>\n",
       "      <th>18</th>\n",
       "      <td>1294956105861345280</td>\n",
       "      <td>CNN</td>\n",
       "      <td>Here are some of Sen. Kamala Harris' intense i...</td>\n",
       "      <td>correct prediction</td>\n",
       "      <td>0</td>\n",
       "      <td>0</td>\n",
       "      <td>LABEL_0</td>\n",
       "    </tr>\n",
       "    <tr>\n",
       "      <th>19</th>\n",
       "      <td>739985813698674690</td>\n",
       "      <td>alexwagner</td>\n",
       "      <td>Clinton very careful tonight, saying she is \"o...</td>\n",
       "      <td>correct prediction</td>\n",
       "      <td>0</td>\n",
       "      <td>0</td>\n",
       "      <td>LABEL_0</td>\n",
       "    </tr>\n",
       "    <tr>\n",
       "      <th>20</th>\n",
       "      <td>1292152904091082753</td>\n",
       "      <td>gadyepstein</td>\n",
       "      <td>@Scholars_Stage @BeijingPalmer Considering he ...</td>\n",
       "      <td>correct prediction</td>\n",
       "      <td>0</td>\n",
       "      <td>0</td>\n",
       "      <td>LABEL_0</td>\n",
       "    </tr>\n",
       "    <tr>\n",
       "      <th>21</th>\n",
       "      <td>796588067167621121</td>\n",
       "      <td>阿丽木琴</td>\n",
       "      <td>PLAYMFS: #ptl\\nlelang acc di pict f/t 16k/124k...</td>\n",
       "      <td>correct prediction</td>\n",
       "      <td>1</td>\n",
       "      <td>1</td>\n",
       "      <td>LABEL_1</td>\n",
       "    </tr>\n",
       "    <tr>\n",
       "      <th>22</th>\n",
       "      <td>1273670480197758977</td>\n",
       "      <td>NewYorker</td>\n",
       "      <td>On April 1st, an officer who worked at a penit...</td>\n",
       "      <td>correct prediction</td>\n",
       "      <td>0</td>\n",
       "      <td>0</td>\n",
       "      <td>LABEL_0</td>\n",
       "    </tr>\n",
       "    <tr>\n",
       "      <th>23</th>\n",
       "      <td>1114351612259065856</td>\n",
       "      <td>upbeat❄️</td>\n",
       "      <td>Avicii: Love is All You Need\\n\\n@feedme: Love ...</td>\n",
       "      <td>correct prediction</td>\n",
       "      <td>1</td>\n",
       "      <td>1</td>\n",
       "      <td>LABEL_1</td>\n",
       "    </tr>\n",
       "    <tr>\n",
       "      <th>24</th>\n",
       "      <td>557081047792230400</td>\n",
       "      <td>Boston Today</td>\n",
       "      <td>Patriots clobber Colts, charge into Super Bowl...</td>\n",
       "      <td>correct prediction</td>\n",
       "      <td>1</td>\n",
       "      <td>1</td>\n",
       "      <td>LABEL_1</td>\n",
       "    </tr>\n",
       "    <tr>\n",
       "      <th>25</th>\n",
       "      <td>855642388945129476</td>\n",
       "      <td>Klausv</td>\n",
       "      <td>MichaelTheTrain Hi there! We've just sent you ...</td>\n",
       "      <td>correct prediction</td>\n",
       "      <td>1</td>\n",
       "      <td>1</td>\n",
       "      <td>LABEL_1</td>\n",
       "    </tr>\n",
       "    <tr>\n",
       "      <th>26</th>\n",
       "      <td>1240522856183656449</td>\n",
       "      <td>austinramzy</td>\n",
       "      <td>Now that you can find masks in Hong Kong again...</td>\n",
       "      <td>correct prediction</td>\n",
       "      <td>0</td>\n",
       "      <td>0</td>\n",
       "      <td>LABEL_0</td>\n",
       "    </tr>\n",
       "    <tr>\n",
       "      <th>27</th>\n",
       "      <td>1282830923948531714</td>\n",
       "      <td>DMRegister</td>\n",
       "      <td>\"Watching my kids leave ... the only thing tha...</td>\n",
       "      <td>wrong prediction</td>\n",
       "      <td>0</td>\n",
       "      <td>1</td>\n",
       "      <td>LABEL_1</td>\n",
       "    </tr>\n",
       "    <tr>\n",
       "      <th>28</th>\n",
       "      <td>738857500338880514</td>\n",
       "      <td>claydube</td>\n",
       "      <td>Rising divorce rate, must be because dress is ...</td>\n",
       "      <td>correct prediction</td>\n",
       "      <td>0</td>\n",
       "      <td>0</td>\n",
       "      <td>LABEL_0</td>\n",
       "    </tr>\n",
       "    <tr>\n",
       "      <th>29</th>\n",
       "      <td>542726594523959296</td>\n",
       "      <td>14e1a141e7651bc6f288335138dcd40015f7668a96f280...</td>\n",
       "      <td>Happy birthday to my handsome cousin many birt...</td>\n",
       "      <td>correct prediction</td>\n",
       "      <td>1</td>\n",
       "      <td>1</td>\n",
       "      <td>LABEL_1</td>\n",
       "    </tr>\n",
       "  </tbody>\n",
       "</table>\n",
       "</div>"
      ],
      "text/plain": [
       "                tweetid                                  user_display_name  \\\n",
       "0   1189300879905755142                                         AbacusNews   \n",
       "1   1301520005822058496                                           guardian   \n",
       "2    359158016613949441        ZTUhI030WiV97FLuXgAU427wsJ1TtqtTBMXjKgShnU=   \n",
       "3   1278149046973001729                                         FrankLuntz   \n",
       "4   1301895307098230785                                    FoxFriendsFirst   \n",
       "5   1294288179034501121                                              MSNBC   \n",
       "6   1275247009990049792                                          NewYorker   \n",
       "7   1097180832060633090                                     Peggynoonannyc   \n",
       "8   1267622414562799616                                                AOC   \n",
       "9   1158359650196238336                                       davidaxelrod   \n",
       "10   654323997962694656                                KansasCityDailyNews   \n",
       "11   498471080882106368  fe36814d91c603bdd794327a26800e8a69da1eb0c49e74...   \n",
       "12   619491783395794944                                 New Orleans Online   \n",
       "13   454342659826782209                                      BoswinkSyri00   \n",
       "14   966682375353757699                                                曲剑明   \n",
       "15  1300427076500029442                                       stegersaurus   \n",
       "16   937237383564623872        6fxdBS7M0NZMGtUtKfOWYi4ekC5JErjXGP+gQN4ais=   \n",
       "17   793671748726165504                                               阿丽木琴   \n",
       "18  1294956105861345280                                                CNN   \n",
       "19   739985813698674690                                         alexwagner   \n",
       "20  1292152904091082753                                        gadyepstein   \n",
       "21   796588067167621121                                               阿丽木琴   \n",
       "22  1273670480197758977                                          NewYorker   \n",
       "23  1114351612259065856                                           upbeat❄️   \n",
       "24   557081047792230400                                       Boston Today   \n",
       "25   855642388945129476                                             Klausv   \n",
       "26  1240522856183656449                                        austinramzy   \n",
       "27  1282830923948531714                                         DMRegister   \n",
       "28   738857500338880514                                           claydube   \n",
       "29   542726594523959296  14e1a141e7651bc6f288335138dcd40015f7668a96f280...   \n",
       "\n",
       "                                           tweet_text        pred_outcome  \\\n",
       "0   Hungry? With a tap on your phone, you can summ...  correct prediction   \n",
       "1   US jobless claims drop sharply as government c...  correct prediction   \n",
       "2                         IT GOES SOMETHING LIKE THIS    wrong prediction   \n",
       "3   In Arizona, coronavirus isn’t just a pandemic....  correct prediction   \n",
       "4   ‘100 Days Of Liberal Lawlessness’: Attorneys G...  correct prediction   \n",
       "5   On Pres. Trump blocking funds to the U.S. Post...  correct prediction   \n",
       "6   “On Friday night, William Barr seemed to embra...  correct prediction   \n",
       "7   A possibility, which has become over the years...  correct prediction   \n",
       "8          He holds that Bible like it’s burning him.    wrong prediction   \n",
       "9   In Chicago last week, 74 people were shot and ...  correct prediction   \n",
       "10  #news Dole recalls cases of bagged salad over ...  correct prediction   \n",
       "11  To love someone who simply smiles or stares at...  correct prediction   \n",
       "12  Optimum performance: pro #tennis is a demandin...  correct prediction   \n",
       "13  Oakland Teen Akintunde Ahmad Accepted at Ivy L...  correct prediction   \n",
       "14                          ＠null It is 15:32 CET now  correct prediction   \n",
       "15  one night you’re at migas the next you’ve been...  correct prediction   \n",
       "16  This travel jacket will cure your packing prob...  correct prediction   \n",
       "17  PLAYMFS: #ptl jay park biased rep yang on retw...  correct prediction   \n",
       "18  Here are some of Sen. Kamala Harris' intense i...  correct prediction   \n",
       "19  Clinton very careful tonight, saying she is \"o...  correct prediction   \n",
       "20  @Scholars_Stage @BeijingPalmer Considering he ...  correct prediction   \n",
       "21  PLAYMFS: #ptl\\nlelang acc di pict f/t 16k/124k...  correct prediction   \n",
       "22  On April 1st, an officer who worked at a penit...  correct prediction   \n",
       "23  Avicii: Love is All You Need\\n\\n@feedme: Love ...  correct prediction   \n",
       "24  Patriots clobber Colts, charge into Super Bowl...  correct prediction   \n",
       "25  MichaelTheTrain Hi there! We've just sent you ...  correct prediction   \n",
       "26  Now that you can find masks in Hong Kong again...  correct prediction   \n",
       "27  \"Watching my kids leave ... the only thing tha...    wrong prediction   \n",
       "28  Rising divorce rate, must be because dress is ...  correct prediction   \n",
       "29  Happy birthday to my handsome cousin many birt...  correct prediction   \n",
       "\n",
       "    troll_or_not  troll_pred pred_label  \n",
       "0              0           0    LABEL_0  \n",
       "1              0           0    LABEL_0  \n",
       "2              1           0    LABEL_0  \n",
       "3              0           0    LABEL_0  \n",
       "4              0           0    LABEL_0  \n",
       "5              0           0    LABEL_0  \n",
       "6              0           0    LABEL_0  \n",
       "7              0           0    LABEL_0  \n",
       "8              0           1    LABEL_1  \n",
       "9              0           0    LABEL_0  \n",
       "10             1           1    LABEL_1  \n",
       "11             1           1    LABEL_1  \n",
       "12             1           1    LABEL_1  \n",
       "13             1           1    LABEL_1  \n",
       "14             1           1    LABEL_1  \n",
       "15             0           0    LABEL_0  \n",
       "16             1           1    LABEL_1  \n",
       "17             1           1    LABEL_1  \n",
       "18             0           0    LABEL_0  \n",
       "19             0           0    LABEL_0  \n",
       "20             0           0    LABEL_0  \n",
       "21             1           1    LABEL_1  \n",
       "22             0           0    LABEL_0  \n",
       "23             1           1    LABEL_1  \n",
       "24             1           1    LABEL_1  \n",
       "25             1           1    LABEL_1  \n",
       "26             0           0    LABEL_0  \n",
       "27             0           1    LABEL_1  \n",
       "28             0           0    LABEL_0  \n",
       "29             1           1    LABEL_1  "
      ]
     },
     "execution_count": 12,
     "metadata": {},
     "output_type": "execute_result"
    }
   ],
   "source": [
    "validate_outcome.head(30)"
   ]
  },
  {
   "cell_type": "code",
   "execution_count": 13,
   "metadata": {},
   "outputs": [
    {
     "data": {
      "text/plain": [
       "correct prediction    9179\n",
       "wrong prediction       821\n",
       "Name: pred_outcome, dtype: int64"
      ]
     },
     "execution_count": 13,
     "metadata": {},
     "output_type": "execute_result"
    }
   ],
   "source": [
    "validate_outcome[\"pred_outcome\"].value_counts()"
   ]
  },
  {
   "cell_type": "code",
   "execution_count": 14,
   "metadata": {},
   "outputs": [
    {
     "name": "stdout",
     "output_type": "stream",
     "text": [
      "Accuracy score:  0.9179\n",
      "Precision score:  0.9178163184864012\n",
      "Recall score:  0.9201738786801027\n",
      "F1 scoe:  0.9189935865811544\n"
     ]
    }
   ],
   "source": [
    "print(\"Accuracy score: \", accuracy_score(\n",
    "    validate_outcome[\"troll_or_not\"].values, validate_outcome[\"troll_pred\"].values\n",
    "))\n",
    "\n",
    "print(\"Precision score: \", precision_score(\n",
    "    validate_outcome[\"troll_or_not\"].values, validate_outcome[\"troll_pred\"].values\n",
    "))\n",
    "\n",
    "print(\"Recall score: \", recall_score(\n",
    "    validate_outcome[\"troll_or_not\"].values, validate_outcome[\"troll_pred\"].values\n",
    "))\n",
    "\n",
    "print(\"F1 scoe: \", f1_score(\n",
    "    validate_outcome[\"troll_or_not\"].values, validate_outcome[\"troll_pred\"].values\n",
    "))\n"
   ]
  },
  {
   "cell_type": "markdown",
   "metadata": {},
   "source": [
    "## 1.3: CONFUSION MATRIX\n",
    "\n",
    "A confusion matrix is among the best ways to assess the performance of a binary classifier, as it more clearly shows the distribution of the false positives and false negatives.\n",
    "\n",
    "From the confusion matrix below, we can see that the model:\n",
    "* correctly identified 4,522 real tweets (0) out of 4,939 as real tweets\n",
    "\n",
    "* correctly identified 4,657 troll tweets (1) out of 5,061 as troll tweets. The model appears to be slightly better at spotting real troll tweets\n",
    "\n",
    "* wrongly identified 417 tweets as troll tweets (1), when they are in fact real tweets.\n",
    "\n",
    "* wrongly identified 404 tweets as real tweets (0), when they are in fact troll tweets.\n",
    "\n",
    "Overall, the model appears to be just really balanced in its performance, correctly picking out troll/real tweets 9 out of 10 times. It appears to be a lil' bit more aggressive in predicting tweets as originating from state trolls, but not in a big way. \n",
    "\n",
    "When it comes to assessing classifiers, it's all about balancing the different demands. Given that the model is already picking out 9 out of 10 real tweets correctly, I think it is acceptable for it to lean just slightly on the more aggressive side in picking out state troll tweets (ie, more false positives).\n",
    "\n",
    "It'll be less ideal if it allowed more troll tweets to go undetected, in my view. But ultimately, it all depends on how the business question is framed and the sort of trade-offs you are prepared to make. "
   ]
  },
  {
   "cell_type": "code",
   "execution_count": 15,
   "metadata": {},
   "outputs": [
    {
     "data": {
      "text/plain": [
       "1    5061\n",
       "0    4939\n",
       "Name: troll_or_not, dtype: int64"
      ]
     },
     "execution_count": 15,
     "metadata": {},
     "output_type": "execute_result"
    }
   ],
   "source": [
    "validate_outcome[\"troll_or_not\"].value_counts()"
   ]
  },
  {
   "cell_type": "code",
   "execution_count": 16,
   "metadata": {},
   "outputs": [
    {
     "data": {
      "text/plain": [
       "array([[4522,  417],\n",
       "       [ 404, 4657]])"
      ]
     },
     "execution_count": 16,
     "metadata": {},
     "output_type": "execute_result"
    }
   ],
   "source": [
    "cm = confusion_matrix(validate_outcome[\"troll_or_not\"].values, validate_outcome[\"troll_pred\"].values)\n",
    "cm"
   ]
  },
  {
   "cell_type": "code",
   "execution_count": 17,
   "metadata": {},
   "outputs": [
    {
     "data": {
      "image/png": "[encoded data removed]",
      "text/plain": [
       "<Figure size 864x864 with 2 Axes>"
      ]
     },
     "metadata": {
      "image/png": {
       "height": 857,
       "width": 808
      },
      "needs_background": "light"
     },
     "output_type": "display_data"
    }
   ],
   "source": [
    "plt.figure(figsize=(12,12))\n",
    "sns.heatmap(cm, annot=True, fmt=\"d\", cmap=\"gist_gray_r\", annot_kws={\"size\": 20})\n",
    "plt.title(\"Predictions v Actual\", fontsize=20)\n",
    "plt.ylabel(\"Actual \", fontsize=20)\n",
    "plt.xlabel(\"Predicted \", fontsize=20)\n",
    "plt.tight_layout()"
   ]
  },
  {
   "cell_type": "markdown",
   "metadata": {},
   "source": [
    "## 2.0: CAN THE MODEL PERFORM AS WELL AGAINST STATE TROLLS FROM ANOTHER COUNTRY? AN ALT TEST USING TROLL TWEETS FROM IRAN\n",
    "\n",
    "So the validation test results showed that the model can indeed accurately pick out state troll tweets from China and Russia that it has not seen before. But will it perform as well against state troll tweets from other countries, say, Iran, Saudi Arabia or Venezuela?\n",
    "\n",
    "The [previous troll detectors](https://towardsdatascience.com/using-data-science-to-uncover-state-backed-trolls-on-twitter-dc04dc749d69) I built using logistics regression were exceedingly good at picking out new troll tweets from sources they had been trained on. In other words, a logistics regression model trained on troll tweets from Russia was very good at picking out new Russian troll tweets. But they failed miserably at picking out troll tweets from another country, ie, they could not \"generalise\" well.\n",
    "\n",
    "Can a classifier built using transfer learning do better? Let's check it out. This Iran dataset is from my [previous repo on this subject](https://github.com/chuachinhon/twitter_state_trolls_cch)."
   ]
  },
  {
   "cell_type": "code",
   "execution_count": 18,
   "metadata": {},
   "outputs": [],
   "source": [
    "# this dataset is in the repo\n",
    "\n",
    "iran = pd.read_csv(\"../data/iran.csv\")"
   ]
  },
  {
   "cell_type": "code",
   "execution_count": 19,
   "metadata": {},
   "outputs": [],
   "source": [
    "cols1 = [\"tweetid\", \"bot_or_not\", \"user_screen_name\", \"tweet_text\", \"clean_tweet_text\"]\n",
    "\n",
    "iran = iran[cols1].copy()\n",
    "\n",
    "iran = iran.rename(\n",
    "    columns={\n",
    "        \"tweetid\": \"tweetid\",\n",
    "        \"bot_or_not\": \"troll_or_not\",\n",
    "        \"user_screen_name\": \"user_display_name\",\n",
    "        \"tweet_text\": \"tweet_text\",\n",
    "        \"clean_tweet_text\": \"clean_text\",\n",
    "    }\n",
    ")\n"
   ]
  },
  {
   "cell_type": "code",
   "execution_count": 20,
   "metadata": {},
   "outputs": [],
   "source": [
    "iran = iran.dropna(subset=['clean_text'])"
   ]
  },
  {
   "cell_type": "code",
   "execution_count": 21,
   "metadata": {},
   "outputs": [],
   "source": [
    "corpus_iran = list(iran['clean_text'].values)"
   ]
  },
  {
   "cell_type": "code",
   "execution_count": 22,
   "metadata": {},
   "outputs": [
    {
     "name": "stdout",
     "output_type": "stream",
     "text": [
      "CPU times: user 4min 46s, sys: 39.4 s, total: 5min 26s\n",
      "Wall time: 2min 6s\n"
     ]
    }
   ],
   "source": [
    "%%time\n",
    "\n",
    "iran[\"pred_raw\"] = nlp_clf(corpus_iran)"
   ]
  },
  {
   "cell_type": "code",
   "execution_count": 23,
   "metadata": {},
   "outputs": [],
   "source": [
    "iran['pred_label'] = [x.get('label') for x in iran['pred_raw']]\n",
    "\n",
    "iran['pred_score'] = [x.get('score') for x in iran['pred_raw']]"
   ]
  },
  {
   "cell_type": "code",
   "execution_count": 24,
   "metadata": {},
   "outputs": [],
   "source": [
    "iran['troll_pred'] = np.where(iran['pred_label'] == \"LABEL_1\", 1, 0)"
   ]
  },
  {
   "cell_type": "code",
   "execution_count": 25,
   "metadata": {},
   "outputs": [],
   "source": [
    "iran[\"pred_outcome\"] = np.where(\n",
    "    iran[\"troll_pred\"] == iran[\"troll_or_not\"],\n",
    "    \"correct prediction\",\n",
    "    \"wrong prediction\",\n",
    ")"
   ]
  },
  {
   "cell_type": "markdown",
   "metadata": {},
   "source": [
    "## 2.1: ASSESS MODEL AGAINST IRAN DATASET\n",
    "\n",
    "The fine tuned Distilbert model's performance dips significantly, from the 0.9 range earlier to 0.7+ for accuracy, precision and recall. But its ability to pick out 736 out of 1,000 Iranian state troll tweets is still a credible performance, and a vast improvement from my logistic regression model under a similar test (which could only detect 40% of Iranian troll tweets).\n",
    "\n",
    "The transformer model does seem to generalise better, and it would be interesting to see how it performs if trained on a bigger corpus with a wider mix of troll tweets from more than two state actors. That will take a lot more experimentation that's outside the scope of this project."
   ]
  },
  {
   "cell_type": "code",
   "execution_count": 27,
   "metadata": {},
   "outputs": [
    {
     "data": {
      "text/plain": [
       "correct prediction    1489\n",
       "wrong prediction       504\n",
       "Name: pred_outcome, dtype: int64"
      ]
     },
     "execution_count": 27,
     "metadata": {},
     "output_type": "execute_result"
    }
   ],
   "source": [
    "iran[\"pred_outcome\"].value_counts()"
   ]
  },
  {
   "cell_type": "code",
   "execution_count": 31,
   "metadata": {},
   "outputs": [
    {
     "name": "stdout",
     "output_type": "stream",
     "text": [
      "Accuracy score:  0.7471149021575514\n",
      "Precision score:  0.7540983606557377\n",
      "Recall score:  0.736\n",
      "F1 scoe:  0.7449392712550607\n"
     ]
    }
   ],
   "source": [
    "print(\"Accuracy score: \", accuracy_score(\n",
    "    iran[\"troll_or_not\"].values, iran[\"troll_pred\"].values\n",
    "))\n",
    "\n",
    "print(\"Precision score: \", precision_score(\n",
    "    iran[\"troll_or_not\"].values, iran[\"troll_pred\"].values\n",
    "))\n",
    "\n",
    "print(\"Recall score: \", recall_score(\n",
    "    iran[\"troll_or_not\"].values, iran[\"troll_pred\"].values\n",
    "))\n",
    "\n",
    "print(\"F1 scoe: \", f1_score(\n",
    "    iran[\"troll_or_not\"].values, iran[\"troll_pred\"].values\n",
    "))\n"
   ]
  },
  {
   "cell_type": "code",
   "execution_count": 32,
   "metadata": {},
   "outputs": [
    {
     "data": {
      "text/plain": [
       "1    1000\n",
       "0     993\n",
       "Name: troll_or_not, dtype: int64"
      ]
     },
     "execution_count": 32,
     "metadata": {},
     "output_type": "execute_result"
    }
   ],
   "source": [
    "iran[\"troll_or_not\"].value_counts()"
   ]
  },
  {
   "cell_type": "code",
   "execution_count": 29,
   "metadata": {},
   "outputs": [
    {
     "data": {
      "text/plain": [
       "array([[753, 240],\n",
       "       [264, 736]])"
      ]
     },
     "execution_count": 29,
     "metadata": {},
     "output_type": "execute_result"
    }
   ],
   "source": [
    "cm_iran = confusion_matrix(iran[\"troll_or_not\"].values, iran[\"troll_pred\"].values)\n",
    "cm_iran"
   ]
  },
  {
   "cell_type": "code",
   "execution_count": 30,
   "metadata": {},
   "outputs": [
    {
     "data": {
      "image/png": "[encoded data removed]",
      "text/plain": [
       "<Figure size 864x864 with 2 Axes>"
      ]
     },
     "metadata": {
      "image/png": {
       "height": 857,
       "width": 802
      },
      "needs_background": "light"
     },
     "output_type": "display_data"
    }
   ],
   "source": [
    "plt.figure(figsize=(12,12))\n",
    "sns.heatmap(cm_iran, annot=True, fmt=\"d\", cmap=\"gist_gray_r\", annot_kws={\"size\": 20})\n",
    "plt.title(\"Predictions v Actual\", fontsize=20)\n",
    "plt.ylabel(\"Actual \", fontsize=20)\n",
    "plt.xlabel(\"Predicted \", fontsize=20)\n",
    "plt.tight_layout()"
   ]
  },
  {
   "cell_type": "markdown",
   "metadata": {},
   "source": [
    "## 3.0 SIMPLE WEB APP\n",
    "\n",
    "I've cobbled together a simple set up for using the fine tuned model as a web app. Unfortunately the free hosting accounts don't have enough space for pytorch installation and the huge fine tuned model.\n",
    "\n",
    "But it works fine on a local machine. Just run the app.py file in the repo from your local machine. "
   ]
  },
  {
   "cell_type": "code",
   "execution_count": null,
   "metadata": {},
   "outputs": [],
   "source": []
  }
 ],
 "metadata": {
  "kernelspec": {
   "display_name": "Python 3",
   "language": "python",
   "name": "python3"
  },
  "language_info": {
   "codemirror_mode": {
    "name": "ipython",
    "version": 3
   },
   "file_extension": ".py",
   "mimetype": "text/x-python",
   "name": "python",
   "nbconvert_exporter": "python",
   "pygments_lexer": "ipython3",
   "version": "3.6.8"
  }
 },
 "nbformat": 4,
 "nbformat_minor": 4
}
