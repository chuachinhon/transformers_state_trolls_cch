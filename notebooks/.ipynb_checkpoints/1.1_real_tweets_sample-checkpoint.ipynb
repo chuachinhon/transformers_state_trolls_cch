{
 "cells": [
  {
   "cell_type": "code",
   "execution_count": 1,
   "metadata": {},
   "outputs": [],
   "source": [
    "%load_ext blackcellmagic"
   ]
  },
  {
   "cell_type": "code",
   "execution_count": 2,
   "metadata": {},
   "outputs": [
    {
     "name": "stderr",
     "output_type": "stream",
     "text": [
      "/anaconda3/lib/python3.6/site-packages/sklearn/utils/deprecation.py:143: FutureWarning: The sklearn.metrics.classification module is  deprecated in version 0.22 and will be removed in version 0.24. The corresponding classes / functions should instead be imported from sklearn.metrics. Anything that cannot be imported from sklearn.metrics is now part of the private API.\n",
      "  warnings.warn(message, FutureWarning)\n"
     ]
    }
   ],
   "source": [
    "import matplotlib as mpl\n",
    "import matplotlib.pyplot as plt\n",
    "import numpy as np\n",
    "import pandas as pd\n",
    "import re\n",
    "import seaborn as sns\n",
    "\n",
    "from nltk.corpus import stopwords\n",
    "from nltk.stem.wordnet import WordNetLemmatizer\n",
    "from sklearn.feature_extraction.text import CountVectorizer, TfidfVectorizer\n",
    "from yellowbrick.text import FreqDistVisualizer, TSNEVisualizer\n",
    "\n",
    "mpl.rcParams[\"figure.dpi\"] = 300\n",
    "%matplotlib inline\n",
    "%config InlineBackend.figure_format ='retina'"
   ]
  },
  {
   "cell_type": "code",
   "execution_count": 3,
   "metadata": {},
   "outputs": [],
   "source": [
    "raw1 = pd.read_csv(\"../data/china_sample1.csv\").dropna(subset=[\"clean_text\"])\n",
    "\n",
    "raw2 = pd.read_csv(\"../data/china_sample2.csv\").dropna(subset=[\"clean_text\"])\n",
    "\n",
    "raw3 = pd.read_csv(\"../data/china_sample3.csv\").dropna(subset=[\"clean_text\"])\n",
    "\n",
    "raw4 = pd.read_csv(\"../data/china_sample4.csv\").dropna(subset=[\"clean_text\"])\n",
    "\n",
    "china_sample = pd.concat([raw1, raw2, raw3, raw4])\n"
   ]
  },
  {
   "cell_type": "code",
   "execution_count": 4,
   "metadata": {},
   "outputs": [],
   "source": [
    "raw5 = pd.read_csv(\"../data/us_sample1.csv\").dropna(subset=[\"clean_text\"])\n",
    "\n",
    "raw6 = pd.read_csv(\"../data/us_sample2.csv\").dropna(subset=[\"clean_text\"])\n",
    "\n",
    "us_sample = pd.concat([raw5, raw6])"
   ]
  },
  {
   "cell_type": "code",
   "execution_count": 5,
   "metadata": {},
   "outputs": [
    {
     "data": {
      "text/plain": [
       "((150015, 4), (167055, 4))"
      ]
     },
     "execution_count": 5,
     "metadata": {},
     "output_type": "execute_result"
    }
   ],
   "source": [
    "us_sample.shape, china_sample.shape"
   ]
  },
  {
   "cell_type": "code",
   "execution_count": 6,
   "metadata": {},
   "outputs": [
    {
     "data": {
      "text/plain": [
       "tweetid              0\n",
       "user_display_name    0\n",
       "tweet_text           0\n",
       "clean_text           0\n",
       "dtype: int64"
      ]
     },
     "execution_count": 6,
     "metadata": {},
     "output_type": "execute_result"
    }
   ],
   "source": [
    "china_sample.isnull().sum()"
   ]
  },
  {
   "cell_type": "code",
   "execution_count": 7,
   "metadata": {},
   "outputs": [
    {
     "data": {
      "text/plain": [
       "tweetid              0\n",
       "user_display_name    0\n",
       "tweet_text           0\n",
       "clean_text           0\n",
       "dtype: int64"
      ]
     },
     "execution_count": 7,
     "metadata": {},
     "output_type": "execute_result"
    }
   ],
   "source": [
    "us_sample.isnull().sum()"
   ]
  },
  {
   "cell_type": "code",
   "execution_count": 8,
   "metadata": {},
   "outputs": [],
   "source": [
    "real_sample = pd.concat([us_sample, china_sample])\n",
    "\n",
    "real_sample[\"troll_or_not\"] = 0"
   ]
  },
  {
   "cell_type": "code",
   "execution_count": 10,
   "metadata": {},
   "outputs": [
    {
     "data": {
      "text/html": [
       "<div>\n",
       "<style scoped>\n",
       "    .dataframe tbody tr th:only-of-type {\n",
       "        vertical-align: middle;\n",
       "    }\n",
       "\n",
       "    .dataframe tbody tr th {\n",
       "        vertical-align: top;\n",
       "    }\n",
       "\n",
       "    .dataframe thead th {\n",
       "        text-align: right;\n",
       "    }\n",
       "</style>\n",
       "<table border=\"1\" class=\"dataframe\">\n",
       "  <thead>\n",
       "    <tr style=\"text-align: right;\">\n",
       "      <th></th>\n",
       "      <th>tweetid</th>\n",
       "      <th>user_display_name</th>\n",
       "      <th>tweet_text</th>\n",
       "      <th>clean_text</th>\n",
       "      <th>troll_or_not</th>\n",
       "    </tr>\n",
       "  </thead>\n",
       "  <tbody>\n",
       "    <tr>\n",
       "      <th>31686</th>\n",
       "      <td>1189938578459111425</td>\n",
       "      <td>austinramzy</td>\n",
       "      <td>Story here. Not clear at this point exactly wh...</td>\n",
       "      <td>Story here Not clear at this point exactly wha...</td>\n",
       "      <td>0</td>\n",
       "    </tr>\n",
       "    <tr>\n",
       "      <th>31687</th>\n",
       "      <td>1189906589148471296</td>\n",
       "      <td>austinramzy</td>\n",
       "      <td>Lots of tear gas in Central now, sending the c...</td>\n",
       "      <td>Lots of tear gas in Central now sending the cr...</td>\n",
       "      <td>0</td>\n",
       "    </tr>\n",
       "    <tr>\n",
       "      <th>31688</th>\n",
       "      <td>1189885751909068800</td>\n",
       "      <td>austinramzy</td>\n",
       "      <td>Marchers passing through Wanchai https://t.co/...</td>\n",
       "      <td>Marchers passing through Wanchai</td>\n",
       "      <td>0</td>\n",
       "    </tr>\n",
       "    <tr>\n",
       "      <th>31689</th>\n",
       "      <td>1189880498757214208</td>\n",
       "      <td>austinramzy</td>\n",
       "      <td>Xi Jinping/Winnie the Pooh https://t.co/0dPjaz...</td>\n",
       "      <td>Xi JinpingWinnie the Pooh</td>\n",
       "      <td>0</td>\n",
       "    </tr>\n",
       "    <tr>\n",
       "      <th>31690</th>\n",
       "      <td>1189874865500766210</td>\n",
       "      <td>austinramzy</td>\n",
       "      <td>Protesters in Halloween masks streaming out of...</td>\n",
       "      <td>Protesters in Halloween masks streaming out of...</td>\n",
       "      <td>0</td>\n",
       "    </tr>\n",
       "  </tbody>\n",
       "</table>\n",
       "</div>"
      ],
      "text/plain": [
       "                   tweetid user_display_name  \\\n",
       "31686  1189938578459111425       austinramzy   \n",
       "31687  1189906589148471296       austinramzy   \n",
       "31688  1189885751909068800       austinramzy   \n",
       "31689  1189880498757214208       austinramzy   \n",
       "31690  1189874865500766210       austinramzy   \n",
       "\n",
       "                                              tweet_text  \\\n",
       "31686  Story here. Not clear at this point exactly wh...   \n",
       "31687  Lots of tear gas in Central now, sending the c...   \n",
       "31688  Marchers passing through Wanchai https://t.co/...   \n",
       "31689  Xi Jinping/Winnie the Pooh https://t.co/0dPjaz...   \n",
       "31690  Protesters in Halloween masks streaming out of...   \n",
       "\n",
       "                                              clean_text  troll_or_not  \n",
       "31686  Story here Not clear at this point exactly wha...             0  \n",
       "31687  Lots of tear gas in Central now sending the cr...             0  \n",
       "31688                   Marchers passing through Wanchai             0  \n",
       "31689                          Xi JinpingWinnie the Pooh             0  \n",
       "31690  Protesters in Halloween masks streaming out of...             0  "
      ]
     },
     "execution_count": 10,
     "metadata": {},
     "output_type": "execute_result"
    }
   ],
   "source": [
    "real_sample.tail()"
   ]
  },
  {
   "cell_type": "code",
   "execution_count": 11,
   "metadata": {},
   "outputs": [
    {
     "data": {
      "text/plain": [
       "(317070, 5)"
      ]
     },
     "execution_count": 11,
     "metadata": {},
     "output_type": "execute_result"
    }
   ],
   "source": [
    "real_sample.shape"
   ]
  },
  {
   "cell_type": "code",
   "execution_count": 12,
   "metadata": {},
   "outputs": [],
   "source": [
    "# real_sample.to_csv(\"../data/real_sample317k.csv\", index=False)"
   ]
  },
  {
   "cell_type": "code",
   "execution_count": null,
   "metadata": {},
   "outputs": [],
   "source": []
  }
 ],
 "metadata": {
  "kernelspec": {
   "display_name": "Python 3",
   "language": "python",
   "name": "python3"
  },
  "language_info": {
   "codemirror_mode": {
    "name": "ipython",
    "version": 3
   },
   "file_extension": ".py",
   "mimetype": "text/x-python",
   "name": "python",
   "nbconvert_exporter": "python",
   "pygments_lexer": "ipython3",
   "version": "3.6.8"
  }
 },
 "nbformat": 4,
 "nbformat_minor": 4
}
