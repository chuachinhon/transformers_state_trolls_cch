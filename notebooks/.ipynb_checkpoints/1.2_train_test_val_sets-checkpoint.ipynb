{
 "cells": [
  {
   "cell_type": "code",
   "execution_count": 1,
   "metadata": {},
   "outputs": [],
   "source": [
    "%load_ext blackcellmagic"
   ]
  },
  {
   "cell_type": "code",
   "execution_count": 2,
   "metadata": {},
   "outputs": [],
   "source": [
    "import numpy as np\n",
    "import pandas as pd\n",
    "import csv"
   ]
  },
  {
   "cell_type": "code",
   "execution_count": 3,
   "metadata": {},
   "outputs": [],
   "source": [
    "troll = (\n",
    "    pd.read_csv(\"../data/troll_sample500k.csv\")\n",
    "    .sample(n=300000, random_state=42, replace=False)\n",
    ")\n",
    "\n",
    "real = (\n",
    "    pd.read_csv(\"../data/real_sample317k.csv\")\n",
    "    .sample(n=300000, random_state=42, replace=False)\n",
    ")\n",
    "\n",
    "tweets = pd.concat([troll, real])\n"
   ]
  },
  {
   "cell_type": "code",
   "execution_count": 4,
   "metadata": {},
   "outputs": [
    {
     "data": {
      "text/plain": [
       "(600000, 5)"
      ]
     },
     "execution_count": 4,
     "metadata": {},
     "output_type": "execute_result"
    }
   ],
   "source": [
    "tweets.shape"
   ]
  },
  {
   "cell_type": "code",
   "execution_count": 5,
   "metadata": {},
   "outputs": [
    {
     "data": {
      "text/plain": [
       "tweetid              0\n",
       "user_display_name    0\n",
       "tweet_text           0\n",
       "clean_text           0\n",
       "troll_or_not         0\n",
       "dtype: int64"
      ]
     },
     "execution_count": 5,
     "metadata": {},
     "output_type": "execute_result"
    }
   ],
   "source": [
    "tweets.isnull().sum()"
   ]
  },
  {
   "cell_type": "code",
   "execution_count": 6,
   "metadata": {},
   "outputs": [
    {
     "data": {
      "text/html": [
       "<div>\n",
       "<style scoped>\n",
       "    .dataframe tbody tr th:only-of-type {\n",
       "        vertical-align: middle;\n",
       "    }\n",
       "\n",
       "    .dataframe tbody tr th {\n",
       "        vertical-align: top;\n",
       "    }\n",
       "\n",
       "    .dataframe thead th {\n",
       "        text-align: right;\n",
       "    }\n",
       "</style>\n",
       "<table border=\"1\" class=\"dataframe\">\n",
       "  <thead>\n",
       "    <tr style=\"text-align: right;\">\n",
       "      <th></th>\n",
       "      <th>tweetid</th>\n",
       "      <th>user_display_name</th>\n",
       "      <th>tweet_text</th>\n",
       "      <th>clean_text</th>\n",
       "      <th>troll_or_not</th>\n",
       "    </tr>\n",
       "  </thead>\n",
       "  <tbody>\n",
       "    <tr>\n",
       "      <th>104241</th>\n",
       "      <td>1127654960915734528</td>\n",
       "      <td>James albert</td>\n",
       "      <td>RT sports9511: How to watch online : San Diego...</td>\n",
       "      <td>RT sports9511 How to watch online San Diego Pa...</td>\n",
       "      <td>1</td>\n",
       "    </tr>\n",
       "    <tr>\n",
       "      <th>199676</th>\n",
       "      <td>693094686974570496</td>\n",
       "      <td>Lily Mann</td>\n",
       "      <td>How Much Ongoing Support -- and What Kinds -- ...</td>\n",
       "      <td>How Much Ongoing Support and What Kinds Should...</td>\n",
       "      <td>1</td>\n",
       "    </tr>\n",
       "    <tr>\n",
       "      <th>140199</th>\n",
       "      <td>964240875722301440</td>\n",
       "      <td>曲剑明</td>\n",
       "      <td>＠null It is 21:50 CET now</td>\n",
       "      <td>null It is CET now</td>\n",
       "      <td>1</td>\n",
       "    </tr>\n",
       "    <tr>\n",
       "      <th>132814</th>\n",
       "      <td>869125810334179328</td>\n",
       "      <td>春天里</td>\n",
       "      <td>: #rtl ehm,sorry. I'll show up this night, if ...</td>\n",
       "      <td>#rtl ehmsorry Ill show up this night if you do...</td>\n",
       "      <td>1</td>\n",
       "    </tr>\n",
       "    <tr>\n",
       "      <th>408697</th>\n",
       "      <td>485477116125773824</td>\n",
       "      <td>7d87a814b4c26497e4e7a13047bc7f52452cb2566a939f...</td>\n",
       "      <td>dine getting on his girlfriend page its feels ...</td>\n",
       "      <td>dine getting on his girlfriend page its feels ...</td>\n",
       "      <td>1</td>\n",
       "    </tr>\n",
       "  </tbody>\n",
       "</table>\n",
       "</div>"
      ],
      "text/plain": [
       "                    tweetid  \\\n",
       "104241  1127654960915734528   \n",
       "199676   693094686974570496   \n",
       "140199   964240875722301440   \n",
       "132814   869125810334179328   \n",
       "408697   485477116125773824   \n",
       "\n",
       "                                        user_display_name  \\\n",
       "104241                                       James albert   \n",
       "199676                                          Lily Mann   \n",
       "140199                                                曲剑明   \n",
       "132814                                                春天里   \n",
       "408697  7d87a814b4c26497e4e7a13047bc7f52452cb2566a939f...   \n",
       "\n",
       "                                               tweet_text  \\\n",
       "104241  RT sports9511: How to watch online : San Diego...   \n",
       "199676  How Much Ongoing Support -- and What Kinds -- ...   \n",
       "140199                          ＠null It is 21:50 CET now   \n",
       "132814  : #rtl ehm,sorry. I'll show up this night, if ...   \n",
       "408697  dine getting on his girlfriend page its feels ...   \n",
       "\n",
       "                                               clean_text  troll_or_not  \n",
       "104241  RT sports9511 How to watch online San Diego Pa...             1  \n",
       "199676  How Much Ongoing Support and What Kinds Should...             1  \n",
       "140199                                 null It is CET now             1  \n",
       "132814  #rtl ehmsorry Ill show up this night if you do...             1  \n",
       "408697  dine getting on his girlfriend page its feels ...             1  "
      ]
     },
     "execution_count": 6,
     "metadata": {},
     "output_type": "execute_result"
    }
   ],
   "source": [
    "tweets.head()"
   ]
  },
  {
   "cell_type": "code",
   "execution_count": 7,
   "metadata": {},
   "outputs": [],
   "source": [
    "'''\n",
    "tweets.to_csv(\n",
    "    \"../data/state_real_tweets600k.csv\",\n",
    "    index=False,\n",
    "    encoding=\"utf-8\",\n",
    "    quoting=csv.QUOTE_NONNUMERIC,\n",
    ")\n",
    "''' "
   ]
  },
  {
   "cell_type": "code",
   "execution_count": 8,
   "metadata": {},
   "outputs": [],
   "source": [
    "validate = tweets.sample(n=6000, random_state=42, replace=False)"
   ]
  },
  {
   "cell_type": "code",
   "execution_count": 9,
   "metadata": {},
   "outputs": [
    {
     "data": {
      "text/plain": [
       "0    3055\n",
       "1    2945\n",
       "Name: troll_or_not, dtype: int64"
      ]
     },
     "execution_count": 9,
     "metadata": {},
     "output_type": "execute_result"
    }
   ],
   "source": [
    "validate[\"troll_or_not\"].value_counts()"
   ]
  },
  {
   "cell_type": "code",
   "execution_count": 10,
   "metadata": {},
   "outputs": [],
   "source": [
    "validate_id = validate['tweetid'].values\n",
    "\n",
    "# The tweetids are unique, so removing these ids from the main dataset\n",
    "# will give us the raw training dataset, which will then be further split into train_test\n",
    "\n",
    "train_raw = tweets[~tweets['tweetid'].isin(validate_id)]"
   ]
  },
  {
   "cell_type": "code",
   "execution_count": 11,
   "metadata": {},
   "outputs": [
    {
     "data": {
      "text/plain": [
       "1    297055\n",
       "0    296736\n",
       "Name: troll_or_not, dtype: int64"
      ]
     },
     "execution_count": 11,
     "metadata": {},
     "output_type": "execute_result"
    }
   ],
   "source": [
    "train_raw['troll_or_not'].value_counts()"
   ]
  },
  {
   "cell_type": "code",
   "execution_count": 12,
   "metadata": {},
   "outputs": [],
   "source": [
    "'''\n",
    "train_raw.to_csv(\n",
    "    \"../data/train_raw.csv\",\n",
    "    index=False,\n",
    "    encoding=\"utf-8\",\n",
    "    quoting=csv.QUOTE_NONNUMERIC,\n",
    ")\n",
    "'''"
   ]
  },
  {
   "cell_type": "code",
   "execution_count": 13,
   "metadata": {},
   "outputs": [],
   "source": [
    "'''\n",
    "validate.to_csv(\n",
    "    \"../data/validate.csv\",\n",
    "    index=False,\n",
    "    encoding=\"utf-8\",\n",
    "    quoting=csv.QUOTE_NONNUMERIC,\n",
    ")\n",
    "'''"
   ]
  },
  {
   "cell_type": "code",
   "execution_count": null,
   "metadata": {},
   "outputs": [],
   "source": []
  },
  {
   "cell_type": "code",
   "execution_count": null,
   "metadata": {},
   "outputs": [],
   "source": []
  },
  {
   "cell_type": "code",
   "execution_count": null,
   "metadata": {},
   "outputs": [],
   "source": []
  },
  {
   "cell_type": "code",
   "execution_count": null,
   "metadata": {},
   "outputs": [],
   "source": []
  },
  {
   "cell_type": "code",
   "execution_count": null,
   "metadata": {},
   "outputs": [],
   "source": []
  }
 ],
 "metadata": {
  "kernelspec": {
   "display_name": "Python 3",
   "language": "python",
   "name": "python3"
  },
  "language_info": {
   "codemirror_mode": {
    "name": "ipython",
    "version": 3
   },
   "file_extension": ".py",
   "mimetype": "text/x-python",
   "name": "python",
   "nbconvert_exporter": "python",
   "pygments_lexer": "ipython3",
   "version": "3.6.8"
  }
 },
 "nbformat": 4,
 "nbformat_minor": 4
}
